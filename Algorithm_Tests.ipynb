{
  "nbformat": 4,
  "nbformat_minor": 0,
  "metadata": {
    "colab": {
      "provenance": [],
      "mount_file_id": "1NXe8Xj8SYIEPMzbmAn5Whk1R22F1WgYe",
      "authorship_tag": "ABX9TyNLq9XeNSHkw/D5KtNZjRQX",
      "include_colab_link": true
    },
    "kernelspec": {
      "name": "python3",
      "display_name": "Python 3"
    },
    "language_info": {
      "name": "python"
    }
  },
  "cells": [
    {
      "cell_type": "markdown",
      "metadata": {
        "id": "view-in-github",
        "colab_type": "text"
      },
      "source": [
        "<a href=\"https://colab.research.google.com/github/ttrevorreese/finalyearproject/blob/main/Algorithm_Tests.ipynb\" target=\"_parent\"><img src=\"https://colab.research.google.com/assets/colab-badge.svg\" alt=\"Open In Colab\"/></a>"
      ]
    },
    {
      "cell_type": "markdown",
      "source": [
        "# **Algorithm Tests**\n",
        "\n",
        "---\n",
        "\n",
        "This Colab notebook is for initial testing of different algorithms to evaluate efficiency and accuracy. This will aid in determining the final algorithm(s) used in the final product. Sources will be given where the codes are referenced from.\n",
        "\n",
        "**Note: These tests will be conducted with the bare bones 'BusStops_v1' dataset.**"
      ],
      "metadata": {
        "id": "A9P2aBYlZaS3"
      }
    },
    {
      "cell_type": "markdown",
      "source": [
        "## Import Libraries"
      ],
      "metadata": {
        "id": "QS-pmARrojkY"
      }
    },
    {
      "cell_type": "code",
      "source": [
        "from array import array\n",
        "import pandas as pd\n",
        "import time\n",
        "import math"
      ],
      "metadata": {
        "id": "v8lzY-mOoDmt"
      },
      "execution_count": 30,
      "outputs": []
    },
    {
      "cell_type": "markdown",
      "source": [
        "## Loading Dataset\n",
        "\n",
        "---\n",
        "\n",
        "Loading the BusStops_v1 dataset:"
      ],
      "metadata": {
        "id": "gRLgRo_9ea9a"
      }
    },
    {
      "cell_type": "code",
      "source": [
        "data = pd.read_csv('BusStops_v1.xlsx', sep='\\t', engine='python')\n",
        "\n",
        "data.head(10)"
      ],
      "metadata": {
        "colab": {
          "base_uri": "https://localhost:8080/",
          "height": 345
        },
        "id": "INZk3C3kehrK",
        "outputId": "a4d32fc9-b1c5-4001-928a-2eac71e1d359"
      },
      "execution_count": 29,
      "outputs": [
        {
          "output_type": "error",
          "ename": "UnicodeDecodeError",
          "evalue": "ignored",
          "traceback": [
            "\u001b[0;31m---------------------------------------------------------------------------\u001b[0m",
            "\u001b[0;31mUnicodeDecodeError\u001b[0m                        Traceback (most recent call last)",
            "\u001b[0;32m<ipython-input-29-d97a6e91a7c5>\u001b[0m in \u001b[0;36m<module>\u001b[0;34m\u001b[0m\n\u001b[0;32m----> 1\u001b[0;31m \u001b[0mdata\u001b[0m \u001b[0;34m=\u001b[0m \u001b[0mpd\u001b[0m\u001b[0;34m.\u001b[0m\u001b[0mread_csv\u001b[0m\u001b[0;34m(\u001b[0m\u001b[0;34m'BusStops_v1.xlsx'\u001b[0m\u001b[0;34m,\u001b[0m \u001b[0msep\u001b[0m\u001b[0;34m=\u001b[0m\u001b[0;34m'\\t'\u001b[0m\u001b[0;34m,\u001b[0m \u001b[0mengine\u001b[0m\u001b[0;34m=\u001b[0m\u001b[0;34m'python'\u001b[0m\u001b[0;34m)\u001b[0m\u001b[0;34m\u001b[0m\u001b[0;34m\u001b[0m\u001b[0m\n\u001b[0m\u001b[1;32m      2\u001b[0m \u001b[0;34m\u001b[0m\u001b[0m\n\u001b[1;32m      3\u001b[0m \u001b[0mdata\u001b[0m\u001b[0;34m.\u001b[0m\u001b[0mhead\u001b[0m\u001b[0;34m(\u001b[0m\u001b[0;36m10\u001b[0m\u001b[0;34m)\u001b[0m\u001b[0;34m\u001b[0m\u001b[0;34m\u001b[0m\u001b[0m\n",
            "\u001b[0;32m/usr/local/lib/python3.8/dist-packages/pandas/util/_decorators.py\u001b[0m in \u001b[0;36mwrapper\u001b[0;34m(*args, **kwargs)\u001b[0m\n\u001b[1;32m    309\u001b[0m                     \u001b[0mstacklevel\u001b[0m\u001b[0;34m=\u001b[0m\u001b[0mstacklevel\u001b[0m\u001b[0;34m,\u001b[0m\u001b[0;34m\u001b[0m\u001b[0;34m\u001b[0m\u001b[0m\n\u001b[1;32m    310\u001b[0m                 )\n\u001b[0;32m--> 311\u001b[0;31m             \u001b[0;32mreturn\u001b[0m \u001b[0mfunc\u001b[0m\u001b[0;34m(\u001b[0m\u001b[0;34m*\u001b[0m\u001b[0margs\u001b[0m\u001b[0;34m,\u001b[0m \u001b[0;34m**\u001b[0m\u001b[0mkwargs\u001b[0m\u001b[0;34m)\u001b[0m\u001b[0;34m\u001b[0m\u001b[0;34m\u001b[0m\u001b[0m\n\u001b[0m\u001b[1;32m    312\u001b[0m \u001b[0;34m\u001b[0m\u001b[0m\n\u001b[1;32m    313\u001b[0m         \u001b[0;32mreturn\u001b[0m \u001b[0mwrapper\u001b[0m\u001b[0;34m\u001b[0m\u001b[0;34m\u001b[0m\u001b[0m\n",
            "\u001b[0;32m/usr/local/lib/python3.8/dist-packages/pandas/io/parsers/readers.py\u001b[0m in \u001b[0;36mread_csv\u001b[0;34m(filepath_or_buffer, sep, delimiter, header, names, index_col, usecols, squeeze, prefix, mangle_dupe_cols, dtype, engine, converters, true_values, false_values, skipinitialspace, skiprows, skipfooter, nrows, na_values, keep_default_na, na_filter, verbose, skip_blank_lines, parse_dates, infer_datetime_format, keep_date_col, date_parser, dayfirst, cache_dates, iterator, chunksize, compression, thousands, decimal, lineterminator, quotechar, quoting, doublequote, escapechar, comment, encoding, encoding_errors, dialect, error_bad_lines, warn_bad_lines, on_bad_lines, delim_whitespace, low_memory, memory_map, float_precision, storage_options)\u001b[0m\n\u001b[1;32m    584\u001b[0m     \u001b[0mkwds\u001b[0m\u001b[0;34m.\u001b[0m\u001b[0mupdate\u001b[0m\u001b[0;34m(\u001b[0m\u001b[0mkwds_defaults\u001b[0m\u001b[0;34m)\u001b[0m\u001b[0;34m\u001b[0m\u001b[0;34m\u001b[0m\u001b[0m\n\u001b[1;32m    585\u001b[0m \u001b[0;34m\u001b[0m\u001b[0m\n\u001b[0;32m--> 586\u001b[0;31m     \u001b[0;32mreturn\u001b[0m \u001b[0m_read\u001b[0m\u001b[0;34m(\u001b[0m\u001b[0mfilepath_or_buffer\u001b[0m\u001b[0;34m,\u001b[0m \u001b[0mkwds\u001b[0m\u001b[0;34m)\u001b[0m\u001b[0;34m\u001b[0m\u001b[0;34m\u001b[0m\u001b[0m\n\u001b[0m\u001b[1;32m    587\u001b[0m \u001b[0;34m\u001b[0m\u001b[0m\n\u001b[1;32m    588\u001b[0m \u001b[0;34m\u001b[0m\u001b[0m\n",
            "\u001b[0;32m/usr/local/lib/python3.8/dist-packages/pandas/io/parsers/readers.py\u001b[0m in \u001b[0;36m_read\u001b[0;34m(filepath_or_buffer, kwds)\u001b[0m\n\u001b[1;32m    480\u001b[0m \u001b[0;34m\u001b[0m\u001b[0m\n\u001b[1;32m    481\u001b[0m     \u001b[0;31m# Create the parser.\u001b[0m\u001b[0;34m\u001b[0m\u001b[0;34m\u001b[0m\u001b[0;34m\u001b[0m\u001b[0m\n\u001b[0;32m--> 482\u001b[0;31m     \u001b[0mparser\u001b[0m \u001b[0;34m=\u001b[0m \u001b[0mTextFileReader\u001b[0m\u001b[0;34m(\u001b[0m\u001b[0mfilepath_or_buffer\u001b[0m\u001b[0;34m,\u001b[0m \u001b[0;34m**\u001b[0m\u001b[0mkwds\u001b[0m\u001b[0;34m)\u001b[0m\u001b[0;34m\u001b[0m\u001b[0;34m\u001b[0m\u001b[0m\n\u001b[0m\u001b[1;32m    483\u001b[0m \u001b[0;34m\u001b[0m\u001b[0m\n\u001b[1;32m    484\u001b[0m     \u001b[0;32mif\u001b[0m \u001b[0mchunksize\u001b[0m \u001b[0;32mor\u001b[0m \u001b[0miterator\u001b[0m\u001b[0;34m:\u001b[0m\u001b[0;34m\u001b[0m\u001b[0;34m\u001b[0m\u001b[0m\n",
            "\u001b[0;32m/usr/local/lib/python3.8/dist-packages/pandas/io/parsers/readers.py\u001b[0m in \u001b[0;36m__init__\u001b[0;34m(self, f, engine, **kwds)\u001b[0m\n\u001b[1;32m    809\u001b[0m             \u001b[0mself\u001b[0m\u001b[0;34m.\u001b[0m\u001b[0moptions\u001b[0m\u001b[0;34m[\u001b[0m\u001b[0;34m\"has_index_names\"\u001b[0m\u001b[0;34m]\u001b[0m \u001b[0;34m=\u001b[0m \u001b[0mkwds\u001b[0m\u001b[0;34m[\u001b[0m\u001b[0;34m\"has_index_names\"\u001b[0m\u001b[0;34m]\u001b[0m\u001b[0;34m\u001b[0m\u001b[0;34m\u001b[0m\u001b[0m\n\u001b[1;32m    810\u001b[0m \u001b[0;34m\u001b[0m\u001b[0m\n\u001b[0;32m--> 811\u001b[0;31m         \u001b[0mself\u001b[0m\u001b[0;34m.\u001b[0m\u001b[0m_engine\u001b[0m \u001b[0;34m=\u001b[0m \u001b[0mself\u001b[0m\u001b[0;34m.\u001b[0m\u001b[0m_make_engine\u001b[0m\u001b[0;34m(\u001b[0m\u001b[0mself\u001b[0m\u001b[0;34m.\u001b[0m\u001b[0mengine\u001b[0m\u001b[0;34m)\u001b[0m\u001b[0;34m\u001b[0m\u001b[0;34m\u001b[0m\u001b[0m\n\u001b[0m\u001b[1;32m    812\u001b[0m \u001b[0;34m\u001b[0m\u001b[0m\n\u001b[1;32m    813\u001b[0m     \u001b[0;32mdef\u001b[0m \u001b[0mclose\u001b[0m\u001b[0;34m(\u001b[0m\u001b[0mself\u001b[0m\u001b[0;34m)\u001b[0m\u001b[0;34m:\u001b[0m\u001b[0;34m\u001b[0m\u001b[0;34m\u001b[0m\u001b[0m\n",
            "\u001b[0;32m/usr/local/lib/python3.8/dist-packages/pandas/io/parsers/readers.py\u001b[0m in \u001b[0;36m_make_engine\u001b[0;34m(self, engine)\u001b[0m\n\u001b[1;32m   1038\u001b[0m             )\n\u001b[1;32m   1039\u001b[0m         \u001b[0;31m# error: Too many arguments for \"ParserBase\"\u001b[0m\u001b[0;34m\u001b[0m\u001b[0;34m\u001b[0m\u001b[0;34m\u001b[0m\u001b[0m\n\u001b[0;32m-> 1040\u001b[0;31m         \u001b[0;32mreturn\u001b[0m \u001b[0mmapping\u001b[0m\u001b[0;34m[\u001b[0m\u001b[0mengine\u001b[0m\u001b[0;34m]\u001b[0m\u001b[0;34m(\u001b[0m\u001b[0mself\u001b[0m\u001b[0;34m.\u001b[0m\u001b[0mf\u001b[0m\u001b[0;34m,\u001b[0m \u001b[0;34m**\u001b[0m\u001b[0mself\u001b[0m\u001b[0;34m.\u001b[0m\u001b[0moptions\u001b[0m\u001b[0;34m)\u001b[0m  \u001b[0;31m# type: ignore[call-arg]\u001b[0m\u001b[0;34m\u001b[0m\u001b[0;34m\u001b[0m\u001b[0m\n\u001b[0m\u001b[1;32m   1041\u001b[0m \u001b[0;34m\u001b[0m\u001b[0m\n\u001b[1;32m   1042\u001b[0m     \u001b[0;32mdef\u001b[0m \u001b[0m_failover_to_python\u001b[0m\u001b[0;34m(\u001b[0m\u001b[0mself\u001b[0m\u001b[0;34m)\u001b[0m\u001b[0;34m:\u001b[0m\u001b[0;34m\u001b[0m\u001b[0;34m\u001b[0m\u001b[0m\n",
            "\u001b[0;32m/usr/local/lib/python3.8/dist-packages/pandas/io/parsers/python_parser.py\u001b[0m in \u001b[0;36m__init__\u001b[0;34m(self, f, **kwds)\u001b[0m\n\u001b[1;32m    111\u001b[0m                 \u001b[0mself\u001b[0m\u001b[0;34m.\u001b[0m\u001b[0mnum_original_columns\u001b[0m\u001b[0;34m,\u001b[0m\u001b[0;34m\u001b[0m\u001b[0;34m\u001b[0m\u001b[0m\n\u001b[1;32m    112\u001b[0m                 \u001b[0mself\u001b[0m\u001b[0;34m.\u001b[0m\u001b[0munnamed_cols\u001b[0m\u001b[0;34m,\u001b[0m\u001b[0;34m\u001b[0m\u001b[0;34m\u001b[0m\u001b[0m\n\u001b[0;32m--> 113\u001b[0;31m             ) = self._infer_columns()\n\u001b[0m\u001b[1;32m    114\u001b[0m         \u001b[0;32mexcept\u001b[0m \u001b[0;34m(\u001b[0m\u001b[0mTypeError\u001b[0m\u001b[0;34m,\u001b[0m \u001b[0mValueError\u001b[0m\u001b[0;34m)\u001b[0m\u001b[0;34m:\u001b[0m\u001b[0;34m\u001b[0m\u001b[0;34m\u001b[0m\u001b[0m\n\u001b[1;32m    115\u001b[0m             \u001b[0mself\u001b[0m\u001b[0;34m.\u001b[0m\u001b[0mclose\u001b[0m\u001b[0;34m(\u001b[0m\u001b[0;34m)\u001b[0m\u001b[0;34m\u001b[0m\u001b[0;34m\u001b[0m\u001b[0m\n",
            "\u001b[0;32m/usr/local/lib/python3.8/dist-packages/pandas/io/parsers/python_parser.py\u001b[0m in \u001b[0;36m_infer_columns\u001b[0;34m(self)\u001b[0m\n\u001b[1;32m    374\u001b[0m             \u001b[0;32mfor\u001b[0m \u001b[0mlevel\u001b[0m\u001b[0;34m,\u001b[0m \u001b[0mhr\u001b[0m \u001b[0;32min\u001b[0m \u001b[0menumerate\u001b[0m\u001b[0;34m(\u001b[0m\u001b[0mheader\u001b[0m\u001b[0;34m)\u001b[0m\u001b[0;34m:\u001b[0m\u001b[0;34m\u001b[0m\u001b[0;34m\u001b[0m\u001b[0m\n\u001b[1;32m    375\u001b[0m                 \u001b[0;32mtry\u001b[0m\u001b[0;34m:\u001b[0m\u001b[0;34m\u001b[0m\u001b[0;34m\u001b[0m\u001b[0m\n\u001b[0;32m--> 376\u001b[0;31m                     \u001b[0mline\u001b[0m \u001b[0;34m=\u001b[0m \u001b[0mself\u001b[0m\u001b[0;34m.\u001b[0m\u001b[0m_buffered_line\u001b[0m\u001b[0;34m(\u001b[0m\u001b[0;34m)\u001b[0m\u001b[0;34m\u001b[0m\u001b[0;34m\u001b[0m\u001b[0m\n\u001b[0m\u001b[1;32m    377\u001b[0m \u001b[0;34m\u001b[0m\u001b[0m\n\u001b[1;32m    378\u001b[0m                     \u001b[0;32mwhile\u001b[0m \u001b[0mself\u001b[0m\u001b[0;34m.\u001b[0m\u001b[0mline_pos\u001b[0m \u001b[0;34m<=\u001b[0m \u001b[0mhr\u001b[0m\u001b[0;34m:\u001b[0m\u001b[0;34m\u001b[0m\u001b[0;34m\u001b[0m\u001b[0m\n",
            "\u001b[0;32m/usr/local/lib/python3.8/dist-packages/pandas/io/parsers/python_parser.py\u001b[0m in \u001b[0;36m_buffered_line\u001b[0;34m(self)\u001b[0m\n\u001b[1;32m    582\u001b[0m             \u001b[0;32mreturn\u001b[0m \u001b[0mself\u001b[0m\u001b[0;34m.\u001b[0m\u001b[0mbuf\u001b[0m\u001b[0;34m[\u001b[0m\u001b[0;36m0\u001b[0m\u001b[0;34m]\u001b[0m\u001b[0;34m\u001b[0m\u001b[0;34m\u001b[0m\u001b[0m\n\u001b[1;32m    583\u001b[0m         \u001b[0;32melse\u001b[0m\u001b[0;34m:\u001b[0m\u001b[0;34m\u001b[0m\u001b[0;34m\u001b[0m\u001b[0m\n\u001b[0;32m--> 584\u001b[0;31m             \u001b[0;32mreturn\u001b[0m \u001b[0mself\u001b[0m\u001b[0;34m.\u001b[0m\u001b[0m_next_line\u001b[0m\u001b[0;34m(\u001b[0m\u001b[0;34m)\u001b[0m\u001b[0;34m\u001b[0m\u001b[0;34m\u001b[0m\u001b[0m\n\u001b[0m\u001b[1;32m    585\u001b[0m \u001b[0;34m\u001b[0m\u001b[0m\n\u001b[1;32m    586\u001b[0m     \u001b[0;32mdef\u001b[0m \u001b[0m_check_for_bom\u001b[0m\u001b[0;34m(\u001b[0m\u001b[0mself\u001b[0m\u001b[0;34m,\u001b[0m \u001b[0mfirst_row\u001b[0m\u001b[0;34m)\u001b[0m\u001b[0;34m:\u001b[0m\u001b[0;34m\u001b[0m\u001b[0;34m\u001b[0m\u001b[0m\n",
            "\u001b[0;32m/usr/local/lib/python3.8/dist-packages/pandas/io/parsers/python_parser.py\u001b[0m in \u001b[0;36m_next_line\u001b[0;34m(self)\u001b[0m\n\u001b[1;32m    679\u001b[0m \u001b[0;34m\u001b[0m\u001b[0m\n\u001b[1;32m    680\u001b[0m             \u001b[0;32mwhile\u001b[0m \u001b[0;32mTrue\u001b[0m\u001b[0;34m:\u001b[0m\u001b[0;34m\u001b[0m\u001b[0;34m\u001b[0m\u001b[0m\n\u001b[0;32m--> 681\u001b[0;31m                 \u001b[0morig_line\u001b[0m \u001b[0;34m=\u001b[0m \u001b[0mself\u001b[0m\u001b[0;34m.\u001b[0m\u001b[0m_next_iter_line\u001b[0m\u001b[0;34m(\u001b[0m\u001b[0mrow_num\u001b[0m\u001b[0;34m=\u001b[0m\u001b[0mself\u001b[0m\u001b[0;34m.\u001b[0m\u001b[0mpos\u001b[0m \u001b[0;34m+\u001b[0m \u001b[0;36m1\u001b[0m\u001b[0;34m)\u001b[0m\u001b[0;34m\u001b[0m\u001b[0;34m\u001b[0m\u001b[0m\n\u001b[0m\u001b[1;32m    682\u001b[0m                 \u001b[0mself\u001b[0m\u001b[0;34m.\u001b[0m\u001b[0mpos\u001b[0m \u001b[0;34m+=\u001b[0m \u001b[0;36m1\u001b[0m\u001b[0;34m\u001b[0m\u001b[0;34m\u001b[0m\u001b[0m\n\u001b[1;32m    683\u001b[0m \u001b[0;34m\u001b[0m\u001b[0m\n",
            "\u001b[0;32m/usr/local/lib/python3.8/dist-packages/pandas/io/parsers/python_parser.py\u001b[0m in \u001b[0;36m_next_iter_line\u001b[0;34m(self, row_num)\u001b[0m\n\u001b[1;32m    740\u001b[0m             \u001b[0;31m# assert for mypy, data is Iterator[str] or None, would error in next\u001b[0m\u001b[0;34m\u001b[0m\u001b[0;34m\u001b[0m\u001b[0;34m\u001b[0m\u001b[0m\n\u001b[1;32m    741\u001b[0m             \u001b[0;32massert\u001b[0m \u001b[0mself\u001b[0m\u001b[0;34m.\u001b[0m\u001b[0mdata\u001b[0m \u001b[0;32mis\u001b[0m \u001b[0;32mnot\u001b[0m \u001b[0;32mNone\u001b[0m\u001b[0;34m\u001b[0m\u001b[0;34m\u001b[0m\u001b[0m\n\u001b[0;32m--> 742\u001b[0;31m             \u001b[0;32mreturn\u001b[0m \u001b[0mnext\u001b[0m\u001b[0;34m(\u001b[0m\u001b[0mself\u001b[0m\u001b[0;34m.\u001b[0m\u001b[0mdata\u001b[0m\u001b[0;34m)\u001b[0m\u001b[0;34m\u001b[0m\u001b[0;34m\u001b[0m\u001b[0m\n\u001b[0m\u001b[1;32m    743\u001b[0m         \u001b[0;32mexcept\u001b[0m \u001b[0mcsv\u001b[0m\u001b[0;34m.\u001b[0m\u001b[0mError\u001b[0m \u001b[0;32mas\u001b[0m \u001b[0me\u001b[0m\u001b[0;34m:\u001b[0m\u001b[0;34m\u001b[0m\u001b[0;34m\u001b[0m\u001b[0m\n\u001b[1;32m    744\u001b[0m             if (\n",
            "\u001b[0;32m/usr/lib/python3.8/codecs.py\u001b[0m in \u001b[0;36mdecode\u001b[0;34m(self, input, final)\u001b[0m\n\u001b[1;32m    320\u001b[0m         \u001b[0;31m# decode input (taking the buffer into account)\u001b[0m\u001b[0;34m\u001b[0m\u001b[0;34m\u001b[0m\u001b[0;34m\u001b[0m\u001b[0m\n\u001b[1;32m    321\u001b[0m         \u001b[0mdata\u001b[0m \u001b[0;34m=\u001b[0m \u001b[0mself\u001b[0m\u001b[0;34m.\u001b[0m\u001b[0mbuffer\u001b[0m \u001b[0;34m+\u001b[0m \u001b[0minput\u001b[0m\u001b[0;34m\u001b[0m\u001b[0;34m\u001b[0m\u001b[0m\n\u001b[0;32m--> 322\u001b[0;31m         \u001b[0;34m(\u001b[0m\u001b[0mresult\u001b[0m\u001b[0;34m,\u001b[0m \u001b[0mconsumed\u001b[0m\u001b[0;34m)\u001b[0m \u001b[0;34m=\u001b[0m \u001b[0mself\u001b[0m\u001b[0;34m.\u001b[0m\u001b[0m_buffer_decode\u001b[0m\u001b[0;34m(\u001b[0m\u001b[0mdata\u001b[0m\u001b[0;34m,\u001b[0m \u001b[0mself\u001b[0m\u001b[0;34m.\u001b[0m\u001b[0merrors\u001b[0m\u001b[0;34m,\u001b[0m \u001b[0mfinal\u001b[0m\u001b[0;34m)\u001b[0m\u001b[0;34m\u001b[0m\u001b[0;34m\u001b[0m\u001b[0m\n\u001b[0m\u001b[1;32m    323\u001b[0m         \u001b[0;31m# keep undecoded input until the next call\u001b[0m\u001b[0;34m\u001b[0m\u001b[0;34m\u001b[0m\u001b[0;34m\u001b[0m\u001b[0m\n\u001b[1;32m    324\u001b[0m         \u001b[0mself\u001b[0m\u001b[0;34m.\u001b[0m\u001b[0mbuffer\u001b[0m \u001b[0;34m=\u001b[0m \u001b[0mdata\u001b[0m\u001b[0;34m[\u001b[0m\u001b[0mconsumed\u001b[0m\u001b[0;34m:\u001b[0m\u001b[0;34m]\u001b[0m\u001b[0;34m\u001b[0m\u001b[0;34m\u001b[0m\u001b[0m\n",
            "\u001b[0;31mUnicodeDecodeError\u001b[0m: 'utf-8' codec can't decode byte 0x88 in position 10: invalid start byte"
          ]
        }
      ]
    },
    {
      "cell_type": "markdown",
      "source": [
        "## References\n",
        "\n",
        "---\n",
        "\n",
        "- Searching Algorithms in Python\n",
        "  - https://stackabuse.com/search-algorithms-in-python/"
      ],
      "metadata": {
        "id": "WeQ7lsp_gLRb"
      }
    },
    {
      "cell_type": "markdown",
      "source": [
        "## Linear Search Algorithm\n",
        "\n",
        "---\n",
        "\n",
        "Linear search is one of the simplest searching algorithms, and the easiest to understand. We can think of it as a ramped-up version of our own implementation of Python's `in` operator.\n",
        "\n",
        "The algorithm consists of iterating over an array and returning the index of the first occurrence of an item once it is found:"
      ],
      "metadata": {
        "id": "c1IWNH1_gn_9"
      }
    },
    {
      "cell_type": "code",
      "source": [
        "def LinearSearch(lys, element):\n",
        "    for i in range (len(lys)):\n",
        "        if lys[i] == element:\n",
        "            return i\n",
        "    return -1"
      ],
      "metadata": {
        "id": "dMpa5I0Rg118"
      },
      "execution_count": 1,
      "outputs": []
    },
    {
      "cell_type": "code",
      "source": [
        "print(LinearSearch([1,2,3,4,5,2,1], 2))"
      ],
      "metadata": {
        "colab": {
          "base_uri": "https://localhost:8080/"
        },
        "id": "-B3e3a5Cg786",
        "outputId": "b88472ef-80fa-4bd8-95ca-5fcf35e09a2a"
      },
      "execution_count": 2,
      "outputs": [
        {
          "output_type": "stream",
          "name": "stdout",
          "text": [
            "1\n"
          ]
        }
      ]
    },
    {
      "cell_type": "markdown",
      "source": [
        "This is the index of the first occurrence of the item we are searching for - keeping in mind that Python indexes are 0-based.\n",
        "\n",
        "The time complexity of linear search is O(n), meaning that the time taken to execute increases with the number of items in our input list `lys`.\n",
        "\n",
        "Linear search is not often used in practice, because the same efficiency can be achieved by using inbuilt methods or existing operators, and it is not as fast or efficient as other search algorithms.\n",
        "\n",
        "Linear search is a good fit for when we need to find the first occurrence of an item in an unsorted collection because unlike most other search algorithms, it does not require that a collection be sorted before searching begins."
      ],
      "metadata": {
        "id": "KXOoaou5hGOI"
      }
    },
    {
      "cell_type": "markdown",
      "source": [
        "## Binary Search Algorithm\n",
        "\n",
        "---\n",
        "\n",
        "Binary search follows a divide and conquer methodology. It is faster than linear search but requires that the array be sorted before the algorithm is executed.\n",
        "\n",
        "Assuming that we're searching for a value `val` in a sorted array, the algorithm compares `val` to the value of the middle element of the array, which we'll call `mid`.\n",
        "\n",
        "- If `mid` is the element we are looking for (best case), we return its index.\n",
        "- If not, we identify which side of `mid` `val` is more likely to be on based on whether `val` is smaller or greater than `mid`, and discard the other side of the array.\n",
        "- We then recursively or iteratively follow the same steps, choosing a new value for `mid`, comparing it with `val` and discarding half of the possible matches in each iteration of the algorithm.\n",
        "The binary search algorithm can be written either recursively or iteratively. Recursion is generally slower in Python because it requires the allocation of new stack frames.\n",
        "\n",
        "Since a good search algorithm should be as fast and accurate as possible, let's consider the iterative implementation of binary search:"
      ],
      "metadata": {
        "id": "1WFXEq9NeExX"
      }
    },
    {
      "cell_type": "code",
      "execution_count": 3,
      "metadata": {
        "id": "-b0mXLN5ZGIJ"
      },
      "outputs": [],
      "source": [
        "def BinarySearch(lys, val):\n",
        "    first = 0\n",
        "    last = len(lys)-1\n",
        "    index = -1\n",
        "    while (first <= last) and (index == -1):\n",
        "        mid = (first+last)//2\n",
        "        if lys[mid] == val:\n",
        "            index = mid\n",
        "        else:\n",
        "            if val<lys[mid]:\n",
        "                last = mid -1\n",
        "            else:\n",
        "                first = mid +1\n",
        "    return index"
      ]
    },
    {
      "cell_type": "code",
      "source": [
        "BinarySearch([10,20,30,40,50], 20)"
      ],
      "metadata": {
        "colab": {
          "base_uri": "https://localhost:8080/"
        },
        "id": "_9p9IH1jhgTY",
        "outputId": "4e7f1269-4b34-4af8-83ba-1548d898a8de"
      },
      "execution_count": 4,
      "outputs": [
        {
          "output_type": "execute_result",
          "data": {
            "text/plain": [
              "1"
            ]
          },
          "metadata": {},
          "execution_count": 4
        }
      ]
    },
    {
      "cell_type": "markdown",
      "source": [
        "The action that the algorithm performs next in each iteration is one of several possibilities:\n",
        "\n",
        "- Returning the index of the current element\n",
        "- Searching through the left half of the array\n",
        "- Searching through the right half of the array\n",
        "\n",
        "We can only pick one possibility per iteration, and our pool of possible matches gets divided by two in each iteration. This makes the time complexity of binary search O(log n).\n",
        "\n",
        "One drawback of binary search is that if there are multiple occurrences of an element in the array, it does not return the index of the first element, but rather the index of the element closest to the middle:"
      ],
      "metadata": {
        "id": "WH05IehnjW5J"
      }
    },
    {
      "cell_type": "code",
      "source": [
        "print(BinarySearch([4,4,4,4,4], 4))"
      ],
      "metadata": {
        "colab": {
          "base_uri": "https://localhost:8080/"
        },
        "id": "ASrOalGYjdV1",
        "outputId": "9f907e4d-bc4e-457f-cec7-becd324c0471"
      },
      "execution_count": 12,
      "outputs": [
        {
          "output_type": "stream",
          "name": "stdout",
          "text": [
            "2\n"
          ]
        }
      ]
    },
    {
      "cell_type": "markdown",
      "source": [
        "For comparison performing a linear search on the same array would return: `0`\n",
        "\n",
        "Which is the index of the first element. However, we cannot categorically say that binary search does not work if an array contains the same element twice - it can work just like linear search and return the first occurrence of the element in some cases.\n",
        "\n",
        "If we perform binary search on the array `[1,2,3,4,4,5]` for instance, and search for 4, we would get `3` as the result.\n",
        "\n",
        "Binary search is quite commonly used in practice because it is efficient and fast when compared to linear search. However, it does have some shortcomings, such as its reliance on the `//` operator. There are many other divide and conquer search algorithms that are derived from binary search, let's examine a few of those next."
      ],
      "metadata": {
        "id": "92aV9EE3jkW5"
      }
    },
    {
      "cell_type": "markdown",
      "source": [
        "## Jump Search Algorithm\n",
        "\n",
        "---\n",
        "\n",
        "Jump Search is similar to binary search in that it works on a sorted array, and uses a similar divide and conquer approach to search through it.\n",
        "\n",
        "It can be classified as an improvement of the linear search algorithm since it depends on linear search to perform the actual comparison when searching for a value.\n",
        "\n",
        "Given a sorted array, instead of searching through the array elements incrementally, we search in jumps. So in our input list `lys`, if we have a jump size of jump our algorithm will consider elements in the order `lys[0]`, `lys[0+jump]`, `lys[0+2jump]`, `lys[0+3jump]` and so on.\n",
        "\n",
        "With each jump, we store the previous value we looked at and its index. When we find a set of values where `lys[i]`<element<`lys[i+jump]`, we perform a linear search with `lys[i]` as the left-most element and `lys[i+jump]` as the right-most element in our search set:"
      ],
      "metadata": {
        "id": "dyfzE3tijw7i"
      }
    },
    {
      "cell_type": "code",
      "source": [
        "import math\n",
        "\n",
        "def JumpSearch (lys, val):\n",
        "    length = len(lys)\n",
        "    jump = int(math.sqrt(length))\n",
        "    left, right = 0, 0\n",
        "    while left < length and lys[left] <= val:\n",
        "        right = min(length - 1, left + jump)\n",
        "        if lys[left] <= val and lys[right] >= val:\n",
        "            break\n",
        "        left += jump;\n",
        "    if left >= length or lys[left] > val:\n",
        "        return -1\n",
        "    right = min(length - 1, right)\n",
        "    i = left\n",
        "    while i <= right and lys[i] <= val:\n",
        "        if lys[i] == val:\n",
        "            return i\n",
        "        i += 1\n",
        "    return -1"
      ],
      "metadata": {
        "id": "IkHqa74BkJgQ"
      },
      "execution_count": 13,
      "outputs": []
    },
    {
      "cell_type": "markdown",
      "source": [
        "Since this is a complex algorithm, let's consider the step-by-step computation of jump search with this input:"
      ],
      "metadata": {
        "id": "UwdGbPKnkQY-"
      }
    },
    {
      "cell_type": "code",
      "source": [
        "print(JumpSearch([1,2,3,4,5,6,7,8,9], 5))"
      ],
      "metadata": {
        "colab": {
          "base_uri": "https://localhost:8080/"
        },
        "id": "zsoLYwX_kRGL",
        "outputId": "4c45443b-422e-4db9-cf3b-5a736cdc19f9"
      },
      "execution_count": 14,
      "outputs": [
        {
          "output_type": "stream",
          "name": "stdout",
          "text": [
            "4\n"
          ]
        }
      ]
    },
    {
      "cell_type": "markdown",
      "source": [
        "- Jump search would first determine the jump size by computing `math.sqrt(len(lys))`. Since we have 9 elements, the jump size would be √9 = 3.\n",
        "- Next, we compute the value of the `right` variable, which is the minimum of the length of the array minus 1, or the value of `left+jump`, which in our case would be 0+3= 3. Since 3 is smaller than 8 we use 3 as the value of `right`.\n",
        "- Now we check whether our search element, 5, is between `lys[0]` and `lys[3]`. Since 5 is not between 1 and 4, we move on.\n",
        "- Next, we do the calculations again and check whether our search element is between `lys[3]` and `lys[6]`, where 6 is 3+jump. Since 5 is between 4 and 7, we do a linear search on the elements between `lys[3]` and `lys[6]` and return the index of our element as: `4`\n",
        "\n",
        "The time complexity of jump search is O(√n), where √n is the jump size, and n is the length of the list, placing jump search between the linear search and binary search algorithms in terms of efficiency.\n",
        "\n",
        "The single most important advantage of jump search when compared to binary search is that it does not rely on the division operator (`/`).\n",
        "\n",
        "In most CPUs, using the division operator is costly when compared to other basic arithmetic operations (addition, subtraction, and multiplication), because the implementation of the division algorithm is iterative.\n",
        "\n",
        "The cost by itself is very small, but when the number of elements to search through is very large, and the number of division operations that we need to perform increases, the cost can add up incrementally. Therefore jump search is better than binary search when there is a large number of elements in a system where even a small increase in speed matters.\n",
        "\n",
        "To make jump search faster, we could use binary search or another internal jump search to search through the blocks, instead of relying on the much slower linear search."
      ],
      "metadata": {
        "id": "6YtYy21BkTKL"
      }
    },
    {
      "cell_type": "markdown",
      "source": [
        "## Fibonacci Search\n",
        "\n",
        "---\n",
        "\n",
        "Fibonacci search is another divide and conquer algorithm which bears similarities to both binary search and jump search. It gets its name because it uses Fibonacci numbers to calculate the block size or search range in each step.\n",
        "\n",
        "Fibonacci numbers start with zero and follow the pattern 0, 1, 1, 2, 3, 5, 8, 13, 21... where each element is the addition of the two numbers that immediately precede it.\n",
        "\n",
        "The algorithm works with three Fibonacci numbers at a time. Let's call the three numbers `fibM`, `fibM_minus_1`, and `fibM_minus_2` where `fibM_minus_1` and `fibM_minus_2` are the two numbers immediately before `fibM` in the sequence:\n",
        "\n",
        "- `fibM = fibM_minus_1 + fibM_minus_2`\n",
        "\n",
        "We initialize the values to 0,1, and 1 or the first three numbers in the Fibonacci sequence to avoid getting an index error in the case where our search array `lys` contains a very small number of items.\n",
        "\n",
        "Then we choose the smallest number of the Fibonacci sequence that is greater than or equal to the number of elements in our search array `lys`, as the value of `fibM`, and the two Fibonacci numbers immediately before it as the values of `fibM_minus_1` and `fibM_minus_2`. While the array has elements remaining and the value of `fibM` is greater than one, we:\n",
        "\n",
        "- Compare `val` with the value of the block in the range up to `fibM_minus_2`, and return the index of the element if it matches.\n",
        "- If the value is greater than the element we are currently looking at, we move the values of `fibM`, `fibM_minus_1` and `fibM_minus_2` two steps down in the Fibonacci sequence, and reset the index to the index of the element.\n",
        "- If the value is less than the element we are currently looking at, we move the values of `fibM`, `fibM_minus_1` and `fibM_minus_2` one step down in the Fibonacci sequence.\n",
        "\n",
        "Let's take a look at the Python implementation of this algorithm:"
      ],
      "metadata": {
        "id": "SU0599nPgZsS"
      }
    },
    {
      "cell_type": "code",
      "source": [
        "def FibonacciSearch(lys, val):\n",
        "    fibM_minus_2 = 0\n",
        "    fibM_minus_1 = 1\n",
        "    fibM = fibM_minus_1 + fibM_minus_2\n",
        "    while (fibM < len(lys)):\n",
        "        fibM_minus_2 = fibM_minus_1\n",
        "        fibM_minus_1 = fibM\n",
        "        fibM = fibM_minus_1 + fibM_minus_2\n",
        "    index = -1;\n",
        "    while (fibM > 1):\n",
        "        i = min(index + fibM_minus_2, (len(lys)-1))\n",
        "        if (lys[i] < val):\n",
        "            fibM = fibM_minus_1\n",
        "            fibM_minus_1 = fibM_minus_2\n",
        "            fibM_minus_2 = fibM - fibM_minus_1\n",
        "            index = i\n",
        "        elif (lys[i] > val):\n",
        "            fibM = fibM_minus_2\n",
        "            fibM_minus_1 = fibM_minus_1 - fibM_minus_2\n",
        "            fibM_minus_2 = fibM - fibM_minus_1\n",
        "        else :\n",
        "            return i\n",
        "    if(fibM_minus_1 and index < (len(lys)-1) and lys[index+1] == val):\n",
        "        return index+1;\n",
        "    return -1"
      ],
      "metadata": {
        "id": "aodB4KG0lBSp"
      },
      "execution_count": 16,
      "outputs": []
    },
    {
      "cell_type": "code",
      "source": [
        "print(FibonacciSearch([1,2,3,4,5,6,7,8,9,10,11], 6))"
      ],
      "metadata": {
        "colab": {
          "base_uri": "https://localhost:8080/"
        },
        "id": "f5YLxoQflkT5",
        "outputId": "5314335f-d72c-4238-f599-b862043dcb10"
      },
      "execution_count": 18,
      "outputs": [
        {
          "output_type": "stream",
          "name": "stdout",
          "text": [
            "5\n"
          ]
        }
      ]
    },
    {
      "cell_type": "markdown",
      "source": [
        "Let's take a look at the step-by-step process of this search:\n",
        "\n",
        "- Determining the smallest Fibonacci number greater than or equal to the length of the list as fibM; in this case, the smallest Fibonacci number meeting our requirements is 13.\n",
        "- The values would be assigned as:\n",
        "  - fibM = 13\n",
        "  - fibM_minus_1 = 8\n",
        "  - fibM_minus_2 = 5\n",
        "  - index = -1\n",
        "- Next, we check the element `lys[4]` where 4 is the minimum of -1+5 . Since the value of `lys[4]` is 5, which is smaller than the value we are searching for, we move the Fibonacci numbers one step down in the sequence, making the values:\n",
        "  - fibM = 8\n",
        "  - fibM_minus_1 = 5\n",
        "  - fibM_minus_2 = 3\n",
        "  - index = 4\n",
        "- Next, we check the element `lys[7]` where 7 is the minimum of 4+3. Since the value of `lys[7]` is 8, which is greater than the value we are searching for, we move the Fibonacci numbers two steps down in the sequence.\n",
        "  - fibM = 3\n",
        "  - fibM_minus_1 = 2\n",
        "  - fibM_minus_2 = 1\n",
        "  - index = 4\n",
        "- Now we check the element `lys[5]` where 5 is the minimum of 4+1 . The value of `lys[5]` is 6, which is the value we are searching for!\n",
        "\n",
        "The result, as expected is: `5`\n",
        "\n",
        "The time complexity for Fibonacci search is O(log n); the same as binary search. This means the algorithm is faster than both linear search and jump search in most cases.\n",
        "\n",
        "Fibonacci search can be used when we have a very large number of elements to search through, and we want to reduce the inefficiency associated with using an algorithm which relies on the division operator.\n",
        "\n",
        "An additional advantage of using Fibonacci search is that it can accommodate input arrays that are too large to be held in CPU cache or RAM, because it searches through elements in increasing step sizes, and not in a fixed size."
      ],
      "metadata": {
        "id": "3S5oLDYBllIy"
      }
    },
    {
      "cell_type": "markdown",
      "source": [
        "## Exponential Search Algorithm\n",
        "\n",
        "---\n",
        "\n",
        "Exponential search is another search algorithm that can be implemented quite simply in Python, compared to jump search and Fibonacci search which are both a bit complex. It is also known by the names galloping search, doubling search and Struzik search.\n",
        "\n",
        "Exponential search depends on binary search to perform the final comparison of values. The algorithm works by:\n",
        "\n",
        "- Determining the range where the element we're looking for is likely to be\n",
        "- Using binary search for the range to find the exact index of the item\n",
        "\n",
        "The Python implementation of the exponential search algorithm is:"
      ],
      "metadata": {
        "id": "-8S4ylZbeTBe"
      }
    },
    {
      "cell_type": "code",
      "source": [
        "def ExponentialSearch(lys, val):\n",
        "    if lys[0] == val:\n",
        "        return 0\n",
        "    index = 1\n",
        "    while index < len(lys) and lys[index] <= val:\n",
        "        index = index * 2\n",
        "    return BinarySearch( array[:min(index, len(lys))], val) # try arr instead of array when testing"
      ],
      "metadata": {
        "id": "lt8IWFVfeYdS"
      },
      "execution_count": 28,
      "outputs": []
    },
    {
      "cell_type": "code",
      "source": [
        "print(ExponentialSearch([1,2,3,4,5,6,7,8],3))"
      ],
      "metadata": {
        "colab": {
          "base_uri": "https://localhost:8080/",
          "height": 252
        },
        "id": "5hSwlqARmQOT",
        "outputId": "4f1d948f-10b4-45a6-a44e-7b928049c133"
      },
      "execution_count": 27,
      "outputs": [
        {
          "output_type": "error",
          "ename": "TypeError",
          "evalue": "ignored",
          "traceback": [
            "\u001b[0;31m---------------------------------------------------------------------------\u001b[0m",
            "\u001b[0;31mTypeError\u001b[0m                                 Traceback (most recent call last)",
            "\u001b[0;32m<ipython-input-27-2299340fe0bb>\u001b[0m in \u001b[0;36m<module>\u001b[0;34m\u001b[0m\n\u001b[0;32m----> 1\u001b[0;31m \u001b[0mprint\u001b[0m\u001b[0;34m(\u001b[0m\u001b[0mExponentialSearch\u001b[0m\u001b[0;34m(\u001b[0m\u001b[0;34m[\u001b[0m\u001b[0;36m1\u001b[0m\u001b[0;34m,\u001b[0m\u001b[0;36m2\u001b[0m\u001b[0;34m,\u001b[0m\u001b[0;36m3\u001b[0m\u001b[0;34m,\u001b[0m\u001b[0;36m4\u001b[0m\u001b[0;34m,\u001b[0m\u001b[0;36m5\u001b[0m\u001b[0;34m,\u001b[0m\u001b[0;36m6\u001b[0m\u001b[0;34m,\u001b[0m\u001b[0;36m7\u001b[0m\u001b[0;34m,\u001b[0m\u001b[0;36m8\u001b[0m\u001b[0;34m]\u001b[0m\u001b[0;34m,\u001b[0m\u001b[0;36m3\u001b[0m\u001b[0;34m)\u001b[0m\u001b[0;34m)\u001b[0m\u001b[0;34m\u001b[0m\u001b[0;34m\u001b[0m\u001b[0m\n\u001b[0m",
            "\u001b[0;32m<ipython-input-26-57799851bb91>\u001b[0m in \u001b[0;36mExponentialSearch\u001b[0;34m(lys, val)\u001b[0m\n\u001b[1;32m      5\u001b[0m     \u001b[0;32mwhile\u001b[0m \u001b[0mindex\u001b[0m \u001b[0;34m<\u001b[0m \u001b[0mlen\u001b[0m\u001b[0;34m(\u001b[0m\u001b[0mlys\u001b[0m\u001b[0;34m)\u001b[0m \u001b[0;32mand\u001b[0m \u001b[0mlys\u001b[0m\u001b[0;34m[\u001b[0m\u001b[0mindex\u001b[0m\u001b[0;34m]\u001b[0m \u001b[0;34m<=\u001b[0m \u001b[0mval\u001b[0m\u001b[0;34m:\u001b[0m\u001b[0;34m\u001b[0m\u001b[0;34m\u001b[0m\u001b[0m\n\u001b[1;32m      6\u001b[0m         \u001b[0mindex\u001b[0m \u001b[0;34m=\u001b[0m \u001b[0mindex\u001b[0m \u001b[0;34m*\u001b[0m \u001b[0;36m2\u001b[0m\u001b[0;34m\u001b[0m\u001b[0;34m\u001b[0m\u001b[0m\n\u001b[0;32m----> 7\u001b[0;31m     \u001b[0;32mreturn\u001b[0m \u001b[0mBinarySearch\u001b[0m\u001b[0;34m(\u001b[0m \u001b[0marray\u001b[0m\u001b[0;34m[\u001b[0m\u001b[0;34m:\u001b[0m\u001b[0mmin\u001b[0m\u001b[0;34m(\u001b[0m\u001b[0mindex\u001b[0m\u001b[0;34m,\u001b[0m \u001b[0mlen\u001b[0m\u001b[0;34m(\u001b[0m\u001b[0mlys\u001b[0m\u001b[0;34m)\u001b[0m\u001b[0;34m)\u001b[0m\u001b[0;34m]\u001b[0m\u001b[0;34m,\u001b[0m \u001b[0mval\u001b[0m\u001b[0;34m)\u001b[0m\u001b[0;34m\u001b[0m\u001b[0;34m\u001b[0m\u001b[0m\n\u001b[0m",
            "\u001b[0;31mTypeError\u001b[0m: 'type' object is not subscriptable"
          ]
        }
      ]
    },
    {
      "cell_type": "markdown",
      "source": [
        "The algorithm works by:\n",
        "\n",
        "- Checking whether the first element in the list matches the value we are searching for - since `lys[0]` is 1 and we are searching for 3, we set the index to 1 and move on.\n",
        "- Going through all the elements in the list, and while the item at the index'th position is less than or equal to our value, exponentially increasing the value of `index` in multiples of two:\n",
        "  - index = 1, `lys[1]` is 2, which is less than 3, so the index is multiplied by 2 and set to 2.\n",
        "  - index = 2, `lys[2]` is 3, which is equal to 3, so the index is multiplied by 2 and set to 4.\n",
        "  - index = 4, `lys[4]` is 5, which is greater than 3; the loop is broken at this point.\n",
        "- It then performs a binary search by slicing the list; `arr[:4]`. In Python, this means that the sub list will contain all elements up to the 4th element, so we're actually calling:\n",
        "\n",
        "`BinarySearch([1,2,3,4], 3)`\n",
        "\n",
        "which would return: `2`\n",
        "\n",
        "Which is the index of the element we are searching for in both the original list, and the sliced list that we pass on to the binary search algorithm.\n",
        "\n",
        "Exponential search runs in O(log i) time, where i is the index of the item we are searching for. In its worst case, the time complexity is O(log n), when the last item is the item we are searching for (n being the length of the array).\n",
        "\n",
        "Exponential search works better than binary search when the element we are searching for is closer to the beginning of the array. In practice, we use exponential search because it is one of the most efficient search algorithms for unbounded or infinite arrays."
      ],
      "metadata": {
        "id": "kguXMoEQmXMQ"
      }
    },
    {
      "cell_type": "markdown",
      "source": [
        "## Interpolation Search Algorithm\n",
        "\n",
        "---\n",
        "\n",
        "Interpolation search is another divide and conquer algorithm, similar to binary search. Unlike binary search, it does not always begin searching at the middle. Interpolation search calculates the probable position of the element we are searching for using the formula:\n",
        "\n",
        "`index = low + [(val-lys[low])*(high-low) / (lys[high]-lys[low])]`\n",
        "\n",
        "Where the variables are:\n",
        "\n",
        "- lys - our input array\n",
        "- val - the element we are searching for\n",
        "- index - the probable index of the search element. This is computed to be a higher value when val is closer in value to the element at the end of the array (`lys[high]`), and lower when val is closer in value to the element at the start of the array (`lys[low]`)\n",
        "- low - the starting index of the array\n",
        "- high - the last index of the array\n",
        "\n",
        "The algorithm searches by calculating the value of `index`:\n",
        "- If a match is found (when `lys[index] == val`), the index is returned\n",
        "- If the value of `val` is less than `lys[index]`, the value for the index is re-calculated using the formula for the left sub-array\n",
        "- If the value of `val` is greater than `lys[index]`, the value for the index is re-calculated using the formula for the right sub-array\n",
        "\n",
        "Let's go ahead and implement the Interpolation search using Python:"
      ],
      "metadata": {
        "id": "6ZNH4rAem2bY"
      }
    },
    {
      "cell_type": "code",
      "source": [
        "def InterpolationSearch(lys, val):\n",
        "    low = 0\n",
        "    high = (len(lys) - 1)\n",
        "    while low <= high and val >= lys[low] and val <= lys[high]:\n",
        "        index = low + int(((float(high - low) / ( lys[high] - lys[low])) * ( val - lys[low])))\n",
        "        if lys[index] == val:\n",
        "            return index\n",
        "        if lys[index] < val:\n",
        "            low = index + 1;\n",
        "        else:\n",
        "            high = index - 1;\n",
        "    return -1"
      ],
      "metadata": {
        "id": "Cq3Po8unnU9v"
      },
      "execution_count": 23,
      "outputs": []
    },
    {
      "cell_type": "code",
      "source": [
        "print(InterpolationSearch([1,2,3,4,5,6,7,8], 6))"
      ],
      "metadata": {
        "colab": {
          "base_uri": "https://localhost:8080/"
        },
        "id": "jJcgWmbxne9F",
        "outputId": "9eaad076-e6dd-48cb-c042-8ae7cea509e1"
      },
      "execution_count": 24,
      "outputs": [
        {
          "output_type": "stream",
          "name": "stdout",
          "text": [
            "5\n"
          ]
        }
      ]
    },
    {
      "cell_type": "markdown",
      "source": [
        "Our initial values would be:\n",
        "- val = 6,\n",
        "- low = 0,\n",
        "- high = 7,\n",
        "- lys[low] = 1,\n",
        "- lys[high] = 8,\n",
        "- index = 0 + [(6-1)*(7-0)/(8-1)] = 5\n",
        "\n",
        "Since lys[5] is 6, which is the value we are searching for, we stop executing and return the result: `5`\n",
        "\n",
        "If we have a large number of elements, and our index cannot be computed in one iteration, we keep on re-calculating values for index after adjusting the values of high and low in our formula.\n",
        "\n",
        "The time complexity of interpolation search is O(log log n) when values are uniformly distributed. If values are not uniformly distributed, the worst-case time complexity is O(n), the same as linear search.\n",
        "\n",
        "Interpolation search works best on uniformly distributed, sorted arrays. Whereas binary search starts in the middle and always divides into two, interpolation search calculates the likely position of the element and checks the index, making it more likely to find the element in a smaller number of iterations."
      ],
      "metadata": {
        "id": "ySFl86C6neqm"
      }
    },
    {
      "cell_type": "markdown",
      "source": [
        "## A* Search Algorithm\n",
        "\n",
        "---\n",
        "\n",
        "One important aspect of A* is `f = g + h`. The f, g, and h variables are in our Node class and get calculated every time we create a new node. Quickly I’ll go over what these variables mean.\n",
        "- F is the total cost of the node.\n",
        "- G is the distance between the current node and the start node.\n",
        "- H is the heuristic — estimated distance from the current node to the end node.\n",
        "\n",
        "Let's take a look at a quick graphic to help illustrate this:\n",
        "\n",
        "![image.png](data:image/png;base64,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)\n",
        "\n",
        "Awesome! Let’s say `node(0)` is our starting position and `node(19)` is our end position. Let’s also say that our current node is at the the red square `node(4)`.\n",
        "\n",
        "*G is the distance between the current node and the start node.*\n",
        "\n",
        "If we count back we can see that `node(4)` is 4 spaces away from our start node.\n",
        "\n",
        "We can also say that G is 1 more than our parent node (`node(3)`). So in this case for `node(4)`, `currentNode.g = 4`.\n",
        "\n",
        "*H is the heuristic — estimated distance from the current node to the end node.*\n",
        "\n",
        "So let’s calculate the distance. If we take a look we’ll see that if we go over 7 spaces and up 3 spaces, we’ve reached our end node (node(19)).\n",
        "\n",
        "Let’s apply the Pythagorean Theorem! `a² + b² = c²`. After we’ve applied this, we’ll see that `currentNode.h = 7² + 3²`. Or `currentNode.h = 58`.\n",
        "\n",
        "But don’t we have to apply the square root to 58? Nope! We can skip that calculation on every node and still get the same output. Clever!\n",
        "\n",
        "With a heuristic, we need to make sure that we can actually calculate it. It’s also very important that the heuristic is always an underestimation of the total path, as an overestimation will lead to A* searching for through nodes that may not be the ‘best’ in terms of f value.\n",
        "\n",
        "*F is the total cost of the node.*\n",
        "\n",
        "So let’s add up h and g to get the total cost of our node. `currentNode.f = currentNode.g + currentNode.h`. Or `currentNode.f = 4+ 58. Or currentNode.f = 62`.\n",
        "\n",
        "Time to use f = g + h: Alright, so that was a lot of work. Now with all that work, what am I going to use this f value for?\n",
        "\n",
        "With this new `f` value, we can look at all our nodes and say, “Hey, is this the best node I can pick to move forward with right now?”. Rather than running through every node, we can pick the ones that have the best chance of getting us to our goal."
      ],
      "metadata": {
        "id": "5s1WUEMleJjx"
      }
    },
    {
      "cell_type": "code",
      "source": [
        "from collections import deque\n",
        " \n",
        "class Graph:\n",
        "    def __init__(self, adjac_lis):\n",
        "        self.adjac_lis = adjac_lis\n",
        " \n",
        "    def get_neighbors(self, v):\n",
        "        return self.adjac_lis[v]\n",
        " \n",
        "    # This is heuristic function which is having equal values for all nodes\n",
        "    def h(self, n):\n",
        "        H = {\n",
        "            'A': 1,\n",
        "            'B': 1,\n",
        "            'C': 1,\n",
        "            'D': 1\n",
        "        }\n",
        " \n",
        "        return H[n]\n",
        " \n",
        "    def a_star_algorithm(self, start, stop):\n",
        "        # In this open_lst is a lisy of nodes which have been visited, but who's \n",
        "        # neighbours haven't all been always inspected, It starts off with the start \n",
        "  #node\n",
        "        # And closed_lst is a list of nodes which have been visited\n",
        "        # and who's neighbors have been always inspected\n",
        "        open_lst = set([start])\n",
        "        closed_lst = set([])\n",
        " \n",
        "        # poo has present distances from start to all other nodes\n",
        "        # the default value is +infinity\n",
        "        poo = {}\n",
        "        poo[start] = 0\n",
        " \n",
        "        # par contains an adjac mapping of all nodes\n",
        "        par = {}\n",
        "        par[start] = start\n",
        " \n",
        "        while len(open_lst) > 0:\n",
        "            n = None\n",
        " \n",
        "            # it will find a node with the lowest value of f() -\n",
        "            for v in open_lst:\n",
        "                if n == None or poo[v] + self.h(v) < poo[n] + self.h(n):\n",
        "                    n = v;\n",
        " \n",
        "            if n == None:\n",
        "                print('Path does not exist!')\n",
        "                return None\n",
        " \n",
        "            # if the current node is the stop\n",
        "            # then we start again from start\n",
        "            if n == stop:\n",
        "                reconst_path = []\n",
        " \n",
        "                while par[n] != n:\n",
        "                    reconst_path.append(n)\n",
        "                    n = par[n]\n",
        " \n",
        "                reconst_path.append(start)\n",
        " \n",
        "                reconst_path.reverse()\n",
        " \n",
        "                print('Path found: {}'.format(reconst_path))\n",
        "                return reconst_path\n",
        " \n",
        "            # for all the neighbors of the current node do\n",
        "            for (m, weight) in self.get_neighbors(n):\n",
        "              # if the current node is not presentin both open_lst and closed_lst\n",
        "                # add it to open_lst and note n as it's par\n",
        "                if m not in open_lst and m not in closed_lst:\n",
        "                    open_lst.add(m)\n",
        "                    par[m] = n\n",
        "                    poo[m] = poo[n] + weight\n",
        " \n",
        "                # otherwise, check if it's quicker to first visit n, then m\n",
        "                # and if it is, update par data and poo data\n",
        "                # and if the node was in the closed_lst, move it to open_lst\n",
        "                else:\n",
        "                    if poo[m] > poo[n] + weight:\n",
        "                        poo[m] = poo[n] + weight\n",
        "                        par[m] = n\n",
        " \n",
        "                        if m in closed_lst:\n",
        "                            closed_lst.remove(m)\n",
        "                            open_lst.add(m)\n",
        " \n",
        "            # remove n from the open_lst, and add it to closed_lst\n",
        "            # because all of his neighbors were inspected\n",
        "            open_lst.remove(n)\n",
        "            closed_lst.add(n)\n",
        " \n",
        "        print('Path does not exist!')\n",
        "        return None"
      ],
      "metadata": {
        "id": "I5B0Utf0eMVK"
      },
      "execution_count": 31,
      "outputs": []
    },
    {
      "cell_type": "code",
      "source": [
        "adjac_lis = {\n",
        "    'A': [('B', 1), ('C', 3), ('D', 7)],\n",
        "    'B': [('D', 5)],\n",
        "    'C': [('D', 12)]\n",
        "}\n",
        "graph1 = Graph(adjac_lis)\n",
        "graph1.a_star_algorithm('A', 'D')"
      ],
      "metadata": {
        "colab": {
          "base_uri": "https://localhost:8080/"
        },
        "id": "6f6qLZWJrA07",
        "outputId": "8e57d3a9-ac1b-4470-eae9-e523e459c5b3"
      },
      "execution_count": 32,
      "outputs": [
        {
          "output_type": "stream",
          "name": "stdout",
          "text": [
            "Path found: ['A', 'B', 'D']\n"
          ]
        },
        {
          "output_type": "execute_result",
          "data": {
            "text/plain": [
              "['A', 'B', 'D']"
            ]
          },
          "metadata": {},
          "execution_count": 32
        }
      ]
    },
    {
      "cell_type": "markdown",
      "source": [
        "In this code, we have made the class named Graph, where multiple functions perform different operations. There is written with all the functions what all operations that function is performing. Then some conditional statements will perform the required operations to get the minimum path for traversal from one node to another node. Finally, we will get the output as the shortest path to travel from one node to another."
      ],
      "metadata": {
        "id": "zrEOR5g3rFFn"
      }
    },
    {
      "cell_type": "markdown",
      "source": [
        "## Dijkstra's Algorithm\n",
        "\n",
        "---\n",
        "\n",
        "Given a graph and a source vertex in the graph, find the shortest paths from source to all vertices in the given graph.\n",
        "\n",
        "Dijkstra’s algorithm is very similar to Prim’s algorithm for minimum spanning tree. Like Prim’s MST, we generate an SPT (shortest path tree) with a given source as root. We maintain two sets, one set contains vertices included in the shortest-path tree, another set includes vertices not yet included in the shortest-path tree. At every step of the algorithm, we find a vertex that is in the other set (set of not yet included) and has a minimum distance from the source.\n",
        "\n",
        "Below are the detailed steps used in Dijkstra’s algorithm to find the shortest path from a single source vertex to all other vertices in the given graph. \n",
        "\n",
        "Algorithm \n",
        "1. Create a set sptSet (shortest path tree set) that keeps track of vertices included in shortest path tree, i.e., whose minimum distance from source is calculated and finalized. Initially, this set is empty. \n",
        "2. Assign a distance value to all vertices in the input graph. Initialize all distance values as INFINITE. Assign distance value as 0 for the source vertex so that it is picked first. \n",
        "3. While sptSet doesn’t include all vertices: \n",
        "\n",
        "- Pick a vertex u which is not there in sptSet and has minimum distance value.\n",
        "- Include u to sptSet.\n",
        "- Update distance value of all adjacent vertices of u. To update the distance values, iterate through all adjacent vertices. For every adjacent vertex v, if the sum of a distance value of u (from source) and weight of edge u-v, is less than the distance value of v, then update the distance value of v."
      ],
      "metadata": {
        "id": "8W00ig6YeM2r"
      }
    },
    {
      "cell_type": "code",
      "source": [
        "# Python program for Dijkstra's single\n",
        "# source shortest path algorithm. The program is\n",
        "# for adjacency matrix representation of the graph\n",
        "class Graph():\n",
        " \n",
        "    def __init__(self, vertices):\n",
        "        self.V = vertices\n",
        "        self.graph = [[0 for column in range(vertices)]\n",
        "                      for row in range(vertices)]\n",
        " \n",
        "    def printSolution(self, dist):\n",
        "        print(\"Vertex \\t Distance from Source\")\n",
        "        for node in range(self.V):\n",
        "            print(node, \"\\t\\t\", dist[node])\n",
        " \n",
        "    # A utility function to find the vertex with\n",
        "    # minimum distance value, from the set of vertices\n",
        "    # not yet included in shortest path tree\n",
        "    def minDistance(self, dist, sptSet):\n",
        " \n",
        "        # Initialize minimum distance for next node\n",
        "        min = 1e7\n",
        " \n",
        "        # Search not nearest vertex not in the\n",
        "        # shortest path tree\n",
        "        for v in range(self.V):\n",
        "            if dist[v] < min and sptSet[v] == False:\n",
        "                min = dist[v]\n",
        "                min_index = v\n",
        " \n",
        "        return min_index\n",
        " \n",
        "    # Function that implements Dijkstra's single source\n",
        "    # shortest path algorithm for a graph represented\n",
        "    # using adjacency matrix representation\n",
        "    def dijkstra(self, src):\n",
        " \n",
        "        dist = [1e7] * self.V\n",
        "        dist[src] = 0\n",
        "        sptSet = [False] * self.V\n",
        " \n",
        "        for cout in range(self.V):\n",
        " \n",
        "            # Pick the minimum distance vertex from\n",
        "            # the set of vertices not yet processed.\n",
        "            # u is always equal to src in first iteration\n",
        "            u = self.minDistance(dist, sptSet)\n",
        " \n",
        "            # Put the minimum distance vertex in the\n",
        "            # shortest path tree\n",
        "            sptSet[u] = True\n",
        " \n",
        "            # Update dist value of the adjacent vertices\n",
        "            # of the picked vertex only if the current\n",
        "            # distance is greater than new distance and\n",
        "            # the vertex in not in the shortest path tree\n",
        "            for v in range(self.V):\n",
        "                if (self.graph[u][v] > 0 and\n",
        "                   sptSet[v] == False and\n",
        "                   dist[v] > dist[u] + self.graph[u][v]):\n",
        "                    dist[v] = dist[u] + self.graph[u][v]\n",
        " \n",
        "        self.printSolution(dist)\n",
        " \n",
        "# Driver program\n",
        "g = Graph(9)\n",
        "g.graph = [[0, 4, 0, 0, 0, 0, 0, 8, 0],\n",
        "           [4, 0, 8, 0, 0, 0, 0, 11, 0],\n",
        "           [0, 8, 0, 7, 0, 4, 0, 0, 2],\n",
        "           [0, 0, 7, 0, 9, 14, 0, 0, 0],\n",
        "           [0, 0, 0, 9, 0, 10, 0, 0, 0],\n",
        "           [0, 0, 4, 14, 10, 0, 2, 0, 0],\n",
        "           [0, 0, 0, 0, 0, 2, 0, 1, 6],\n",
        "           [8, 11, 0, 0, 0, 0, 1, 0, 7],\n",
        "           [0, 0, 2, 0, 0, 0, 6, 7, 0]\n",
        "           ]\n",
        " \n",
        "g.dijkstra(0)"
      ],
      "metadata": {
        "colab": {
          "base_uri": "https://localhost:8080/"
        },
        "id": "NmDc_73OeREw",
        "outputId": "3fd65a65-481f-471c-ccd5-ce0b818e4a23"
      },
      "execution_count": 33,
      "outputs": [
        {
          "output_type": "stream",
          "name": "stdout",
          "text": [
            "Vertex \t Distance from Source\n",
            "0 \t\t 0\n",
            "1 \t\t 4\n",
            "2 \t\t 12\n",
            "3 \t\t 19\n",
            "4 \t\t 21\n",
            "5 \t\t 11\n",
            "6 \t\t 9\n",
            "7 \t\t 8\n",
            "8 \t\t 14\n"
          ]
        }
      ]
    },
    {
      "cell_type": "markdown",
      "source": [
        "# Performance Evaluation\n",
        "\n",
        "---\n",
        "\n",
        "Python is highly readable and efficient when compared to older programming languages like Java, Fortran, C, C++ etc. One key advantage of using Python for implementing search algorithms is that you don't have to worry about casting or explicit typing.\n",
        "\n",
        "In Python, most of the search algorithms we discussed will work just as well if we're searching for a String. Keep in mind that we do have to make changes to the code for algorithms which use the search element for numeric calculations, like the interpolation search algorithm.\n",
        "\n",
        "Python is also a good place to start if you want to compare the performance of different search algorithms for your dataset; building a prototype in Python is easier and faster because you can do more with fewer lines of code.\n",
        "\n",
        "To compare the performance of our implemented search algorithms against a dataset, we can use the time library in Python:"
      ],
      "metadata": {
        "id": "RqR3FxmKoQPZ"
      }
    },
    {
      "cell_type": "code",
      "source": [
        "import time\n",
        "\n",
        "start = time.time()\n",
        "# call function here\n",
        "end = time.time()\n",
        "print(start-end)"
      ],
      "metadata": {
        "id": "fsINE7xtoT1O"
      },
      "execution_count": null,
      "outputs": []
    },
    {
      "cell_type": "markdown",
      "source": [
        "## Comparison\n",
        "\n",
        "---\n",
        "\n",
        "From algorithm to algorithm"
      ],
      "metadata": {
        "id": "ozOaYD5Locvf"
      }
    },
    {
      "cell_type": "code",
      "source": [],
      "metadata": {
        "id": "hpnh0CgiofKF"
      },
      "execution_count": null,
      "outputs": []
    },
    {
      "cell_type": "markdown",
      "source": [
        "# Sources\n",
        "\n",
        "---\n",
        "\n",
        "- Linear Search, Binary Search, Jump Search, Fibonacci Search, Exponential Search, Interpolation Search\n",
        "  - https://stackabuse.com/search-algorithms-in-python/\n",
        "- A* Search\n",
        "  - https://www.pythonpool.com/a-star-algorithm-python/\n",
        "  - https://www.redblobgames.com/pathfinding/a-star/implementation.html\n",
        "- Dijkstra's Algorithm\n",
        "  - https://www.geeksforgeeks.org/python-program-for-dijkstras-shortest-path-algorithm-greedy-algo-7/"
      ],
      "metadata": {
        "id": "CtVeHBTDrtku"
      }
    }
  ]
}