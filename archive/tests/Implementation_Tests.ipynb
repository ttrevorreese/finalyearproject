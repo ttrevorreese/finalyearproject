{
  "cells": [
    {
      "cell_type": "markdown",
      "metadata": {
        "colab_type": "text",
        "id": "view-in-github"
      },
      "source": [
        "<a href=\"https://colab.research.google.com/github/ttrevorreese/finalyearproject/blob/main/Implementation_Tests.ipynb\" target=\"_parent\"><img src=\"https://colab.research.google.com/assets/colab-badge.svg\" alt=\"Open In Colab\"/></a>"
      ]
    },
    {
      "cell_type": "markdown",
      "metadata": {
        "id": "5hfYjXO4J0bY"
      },
      "source": [
        "# Algorithm\n",
        "\n",
        "---\n",
        "\n",
        "Dijkstra's Algorithm"
      ]
    },
    {
      "cell_type": "markdown",
      "metadata": {
        "id": "vR3RDzvmUp7f"
      },
      "source": [
        "## Import Libraries"
      ]
    },
    {
      "cell_type": "code",
      "execution_count": null,
      "metadata": {
        "id": "Q3UTvEcWIW6n"
      },
      "outputs": [],
      "source": [
        "from array import array\n",
        "import pandas as pd\n",
        "import time\n",
        "import math"
      ]
    },
    {
      "cell_type": "markdown",
      "metadata": {
        "id": "F4l5v8zmU4on"
      },
      "source": [
        "## Loading Dataset"
      ]
    },
    {
      "cell_type": "code",
      "execution_count": null,
      "metadata": {
        "id": "BXNfpjxwU6Xg"
      },
      "outputs": [],
      "source": [
        "# Import data from csv\n",
        "data = pd.read_csv('datasets\\BusStops.csv')\n",
        "\n",
        "# Drop unnecessary columns (can be utilized in further development)\n",
        "data.drop(['Scores', 'Notes'], axis=1, inplace=True)\n",
        "\n",
        "# Display a preview of the first 10 rows of the data\n",
        "data.head(10)"
      ]
    },
    {
      "cell_type": "code",
      "execution_count": null,
      "metadata": {
        "id": "Eu65EIImXB-K"
      },
      "outputs": [],
      "source": [
        "# Storing latitude and longitude into a list each\n",
        "lat = data[\"Latitude\"]\n",
        "lon = data[\"Longitude\"]\n",
        "name = data[\"Stop Name\"]\n",
        "clsf = data[\"Classification\"]"
      ]
    },
    {
      "cell_type": "markdown",
      "metadata": {
        "id": "9JZZktXKVFa7"
      },
      "source": [
        "## Adjacency List"
      ]
    },
    {
      "cell_type": "code",
      "execution_count": null,
      "metadata": {
        "id": "nqGoRn8sVJ6R"
      },
      "outputs": [],
      "source": [
        "#!/usr/bin/python\n",
        "# -*- coding: utf-8 -*-\n",
        "import math\n",
        "\n",
        "# This graph contains all of the bus stops and their connecting nodes with each of the distances between them measured in miles, collected from Google Maps.\n",
        "graph = {\n",
        "    \"Heritage Marketplace\": {\"Sonoma at Mapleton Apartments\": 0.7, \"Antelope & Keller\": 0.9},\n",
        "    \"Sonoma at Mapleton Apartments\": {\"Heritage Marketplace\": 0.7, \"Antelope & Keller\": 0.4, \"Mapleton & Iris\": 0.5, \"Mapleton Park\": 0.5},\n",
        "    \"Mapleton & Iris\": {\"Sonoma at Mapleton Apartments\": 0.5, \"Whitewood & Mapleton\": 0.4, \"Mapleton Park\": 0.5},\n",
        "    \"Whitewood & Mapleton\": {\"Poinsettia & Verbena\": 0.3, \"Mapleton & Iris\": 0.4, \"Keller & Whitewood\": 0.4},\n",
        "    \"Poinsettia & Verbena\": {\"Whitewood & Mapleton\": 0.3, \"Keller & Whitewood\": 0.6},\n",
        "    \"Mapleton Park\": {\"Sonoma at Mapleton Apartments\": 0.5, \"Mapleton & Iris\": 0.5},\n",
        "    \"Kaiser Permanente @ Keller\": {\"Antelope & Keller\": 0.1, \"Springbrook Park\": 0.4, \"Keller & Whitewood\": 0.6},\n",
        "    \"Springbrook Park\": {\"Kaiser Permanente @ Keller\": 0.4, \"Keller & Whitewood\": 0.3, \"Meadowlark & Brians\": 0.2},\n",
        "    \"Keller & Whitewood\": {\"Poinsettia & Verbena\": 0.6, \"Whitewood & Mapleton\": 0.4, \"Kaiser Permanente @ Keller\": 0.6, \"Springbrook Park\": 0.3, \"Alderwood Park\": 1.1, \"Meadowlark & Brians\": 0.6},\n",
        "    \"Meadowlark & Brians\": {\"Keller & Whitewood\": 0.6, \"Springbrook Park\": 0.2},\n",
        "    \"Antelope & Keller\": {\"Sonoma at Mapleton Apartments\": 0.4, \"Kaiser Permanente @ Keller\": 0.1, \"Loma Linda University Medical Center\": 0.9, \"Heritage Marketplace\": 0.9},\n",
        "    \"Loma Linda University Medical Center\": {\"Antelope & Keller\": 0.9, \"Alderwood Park\": 0.5},\n",
        "    \"Alderwood Park\": {\"Keller & Whitewood\": 1.1, \"Loma Linda University Medical Center\": 0.5, \"Whitewood & Lee/Linnel\": 0.5},\n",
        "    \"Whitewood & Lee/Linnel\": {\"Alderwood Park\": 0.5, \"Meadowlark Pointe\": 0.2, \"McElwain @ Super Target\": 0.9},\n",
        "    \"Meadowlark Pointe\": {\"Whitewood & Lee/Linnel\": 0.2, \"Clinton Keith & Whitewood\": 0.3},\n",
        "    \"McElwain @ Super Target\": {\"Whitewood & Lee/Linnel\": 0.9, \"Orchard Center\": 0.2},\n",
        "    \"Orchard Center\": {\"McElwain @ Super Target\": 0.2, \"Clinton Keith @ Costco & Vista Murrieta High School\": 0.7, \"Clinton Keith & Murrieta Oaks/Greer\": 0.7, \"Antelope Hills Elementary School\": 0.5},\n",
        "    \"Clinton Keith & Whitewood\": {\"Meadowlark Pointe\": 0.3, \"Clinton Keith @ Costco & Vista Murrieta High School\": 0.4, \"Clinton Keith & Menifee\": 0.5, \"Whitewood & Hunter\": 0.9},\n",
        "    \"Clinton Keith @ Costco & Vista Murrieta High School\": {\"Clinton Keith & Whitewood\": 0.4, \"Orchard Center\": 0.7},\n",
        "    \"Clinton Keith & Menifee\": {\"Clinton Keith & Whitewood\": 0.5, \"Clinton Keith & Trois Valley\": 1.2, \"Los Alamos & Shannon N\": 0.7},\n",
        "    \"Los Alamos & Shannon N\": {\"Clinton Keith & Menifee\": 0.7, \"Los Alamos & Mason\": 0.4},\n",
        "    \"Los Alamos & Mason\": {\"Los Alamos & Shannon N\": 0.4, \"Rail Ranch Elementary School\": 0.7, \"Los Alamos Hills Sports Park\": 0.9},\n",
        "    \"Rail Ranch Elementary School\": {\"Los Alamos & Mason\": 0.7, \"Los Alamos Hills Sports Park\": 0.4, \"Murrieta Gateway\": 0.4, \"Whitewood & Busman\": 0.8, \"Whitewood & Willowbend\": 0.6},\n",
        "    \"Los Alamos Hills Sports Park\": {\"Rail Ranch Elementary School\": 0.4, \"Whitewood & Busman\": 0.5, \"Whitewood & Hunter\": 0.4, \"Los Alamos & Mason\": 0.9} ,\n",
        "    \"Whitewood & Hunter\": {\"Clinton Keith & Whitewood\": 0.9, \"Los Alamos Hills Sports Park\": 0.4, \"Whitewood & Busman\": 0.6},\n",
        "    \"Clinton Keith & Murrieta Oaks/Greer\": {\"Orchard Center\": 0.7, \"Antelope Hills Elementary School\": 0.5, \"Murrieta Antelope Hills Park\": 0.3, \"Greer & Pabesu East\": 0.6, \"Clinton Keith & California Oaks\": 0.6},\n",
        "    \"Murrieta Antelope Hills Park\": {\"Antelope Hills Elementary School\": 0.4, \"Clinton Keith & Murrieta Oaks/Greer\": 0.3, \"Murrieta Oaks & Oak Meadows\": 0.4},\n",
        "    \"Murrieta Oaks & Oak Meadows\": {\"Murrieta Antelope Hills Park\": 0.4, \"Antelope Hills Elementary School\": 0.5},\n",
        "    \"Antelope Hills Elementary School\": {\"Orchard Center\": 0.5, \"Murrieta Oaks & Oak Meadows\": 0.5, \"Clinton Keith & Murrieta Oaks/Greer\": 0.5, \"Murrieta Antelope Hills Park\": 0.4},\n",
        "    \"Greer & Pabesu East\": {\"Clinton Keith & Murrieta Oaks/Greer\": 0.6, \"Greer & Pabesu West\": 0.7},\n",
        "    \"Greer & Pabesu West\": {\"Greer & Pabesu East\": 0.7, \"Blackmore Ranch Park\": 0.5},\n",
        "    \"Clinton Keith & California Oaks\": {\"Clinton Keith & Murrieta Oaks/Greer\": 0.6, \"California Oaks & Falconer/Manresa\": 0.4, \"Nutmeg & St Raphael Tovashal\": 0.5, \"Blackmore Ranch Park\": 0.6, \"Clinton Keith & Spinning Wheel\": 0.9},\n",
        "    \"Blackmore Ranch Park\": {\"Greer & Pabesu West\": 0.5, \"Clinton Keith & California Oaks\": 0.6, \"Clinton Keith & Spinning Wheel\": 0.7, \"Nutmeg & St Raphael Tovashal\": 0.3},\n",
        "    \"Clinton Keith & Spinning Wheel\": {\"Clinton Keith & California Oaks\": 0.9, \"Nutmeg & St Raphael Tovashal\": 0.6, \"Clinton Keith & Smith Ranch\": 0.7, \"Blackmore Ranch Park\": 0.7},\n",
        "    \"Nutmeg & St Raphael Tovashal\": {\"Blackmore Ranch Park\": 0.3, \"Clinton Keith & California Oaks\": 0.5, \"Clinton Keith & Spinning Wheel\": 0.6, \"Nutmeg & Gingerbread\": 0.4},\n",
        "    \"Nutmeg & Gingerbread\": {\"Nutmeg & St Raphael Tovashal\": 0.4, \"Golden Pheasant and Malacca/Tanager\": 0.4, \"Nutmeg & Lincoln\": 0.4},\n",
        "    \"Golden Pheasant and Malacca/Tanager\": {\"Nutmeg & Gingerbread\": 0.4, \"Valley Vista Park\": 0.5},\n",
        "    \"Valley Vista Park\": {\"Golden Pheasant and Malacca/Tanager\": 0.5, \"California Oaks & Falconer/Manresa\": 0.4},\n",
        "    \"Whitewood & Busman\": {\"Murrieta Gateway\": 0.7, \"Whitewood & Hunter\": 0.6, \"Los Alamos Hills Sports Park\": 0.5, \"Rail Ranch Elementary School\": 0.8},\n",
        "    \"Murrieta Gateway\": {\"Whitewood & Busman\": 0.7, \"Rail Ranch Elementary School\": 0.4, \"Whitewood & Willowbend\": 0.4, \"Sierra Vista Shopping Center\": 0.4},\n",
        "    \"Whitewood & Willowbend\": {\"Murrieta Gateway\": 0.4, \"Rail Ranch Elementary School\": 0.6, \"Whitewood & Blackthorne\": 0.3, \"Rancho Acacias Park @ Avenida Palizada\": 0.4},\n",
        "    \"Rancho Acacias Park @ Avenida Palizada\": {\"Whitewood & Willowbend\": 0.4, \"Whitewood & Blackthorne\": 0.5},\n",
        "    \"Whitewood & Blackthorne\": {\"Whitewood & Willowbend\": 0.3, \"Rancho Acacias Park @ Avenida Palizada\": 0.5, \"Whitewood Park\": 0.3},\n",
        "    \"Whitewood Park\": {\"Whitewood & Blackthorne\": 0.3, \"Alta Murrieta Elementary School\": 0.2},\n",
        "    \"Alta Murrieta Elementary School\": {\"Whitewood Park\": 0.2, \"Whitewood & Via Temprano/Highbury\": 0.3, \"Alta Murrieta & Ridgeplume\": 0.4},\n",
        "    \"Whitewood & Via Temprano/Highbury\": {\"Alta Murrieta Elementary School\": 0.3, \"Rockcrest & Daphne\": 0.5, \"Firefighters Park\": 0.7},\n",
        "    \"Firefighters Park\": {\"Whitewood & Via Temprano/Highbury\": 0.7, \"Murrieta Hot Springs & Alta Murrieta Sam's Club\": 0.5, \"Murrieta Hot Springs & Margarita\": 0.7, \"Jackson & Magellan\": 0.7},\n",
        "    \"Murrieta Hot Springs & Alta Murrieta Sam's Club\": {\"Firefighters Park\": 0.5, \"Alta Murrieta Sports Park\": 0.4, \"Rancho Springs Medical Center\": 0.5, \"Jackson & Magellan\": 0.7, \"Murrieta Springs Plaza\": 1.4},\n",
        "    \"Alta Murrieta Sports Park\": {\"Murrieta Hot Springs & Alta Murrieta Sam's Club\": 0.4, \"Alta Murrieta & Ridgeplume\": 0.2, \"Rockcrest & Daphne\": 0.5},\n",
        "    \"Alta Murrieta & Ridgeplume\": {\"Alta Murrieta Sports Park\": 0.2, \"Alta Murrieta Elementary School\": 0.4},\n",
        "    \"Rockcrest & Daphne\": {\"Whitewood & Via Temprano/Highbury\": 0.5, \"Alta Murrieta Sports Park\": 0.5},\n",
        "    \"Jackson & Magellan\": {\"Murrieta Hot Springs & Alta Murrieta Sam's Club\": 0.7, \"Firefighters Park\": 0.7, \"Murrieta Palms @ Ynez\": 0.8},\n",
        "    \"Murrieta Palms @ Ynez\": {\"Jackson & Magellan\": 0.8},\n",
        "    \"Murrieta Hot Springs & Margarita\": {\"Firefighters Park\": 0.7, \"Murrieta Hot Springs & Calle Del Lago\": 0.6, \"Margarita & Torrey Pines\": 0.5},\n",
        "    \"Murrieta Hot Springs & Calle Del Lago\": {\"Murrieta Hot Springs & Margarita\": 0.6, \"Murrieta Hot Springs & Winchester Hwy 79\": 0.4},\n",
        "    \"Murrieta Hot Springs & Winchester Hwy 79\": {\"Murrieta Hot Springs & Calle Del Lago\": 0.4, \"Winchester & Robert Trent Jones/Technology\": 0.6},\n",
        "    \"Winchester & Robert Trent Jones/Technology\": {\"Murrieta Hot Springs & Winchester Hwy 79\": 0.6, \"Winchester & Hunter\": 0.6},\n",
        "    \"Winchester & Hunter\": {\"Winchester & Robert Trent Jones/Technology\": 0.6, \"Hunter & Via Mira Mosa\": 0.7, \"Winchester & La Alba/Sparkman\": 0.5},\n",
        "    \"Winchester & La Alba/Sparkman\": {\"Winchester & Hunter\": 0.5, \"French Valley Airport @ Winchester\": 0.4, \"Palomar Park & La Alba Trail\": 0.4},\n",
        "    \"French Valley Airport @ Winchester\": {\"Winchester & La Alba/Sparkman\": 0.4, \"French Valley Village Shopping Center\": 0.8, \"Palomar Park & La Alba Trail\": 0.8},\n",
        "    \"French Valley Village Shopping Center\": {\"French Valley Airport @ Winchester\": 0.8, \"Winchester & Max Gilliss/Thompson\": 0.6},\n",
        "    \"Winchester & Max Gilliss/Thompson\": {\"Spencer's Crossing Sports Park\": 0.5, \"French Valley Village Shopping Center\": 0.6},\n",
        "    \"Spencer's Crossing Sports Park\": {\"Winchester & Max Gilliss/Thompson\": 0.5, \"Clinton Keith & Trois Valley\": 0.7},\n",
        "    \"Clinton Keith & Trois Valley\": {\"Clinton Keith & Menifee\": 1.2, \"Spencer's Crossing Sports Park\": 0.7},\n",
        "    \"Clinton Keith & Smith Ranch\": {\"Clinton Keith & Spinning Wheel\": 0.7, \"Clinton Keith Veterinary Hospital\": 0.5},\n",
        "    \"Clinton Keith Veterinary Hospital\": {\"Clinton Keith & Smith Ranch\": 0.5, \"Clinton Keith & Wildomar Trail\": 0.5, \"Inland Valley Medical Center\": 0.6},\n",
        "    \"Inland Valley Medical Center\": {\"Clinton Keith Veterinary Hospital\": 0.6, \"Clinton Keith & Wildomar Trail\": 0.6, \"Prielipp & Elizabeth\": 0.6},\n",
        "    \"Clinton Keith & Wildomar Trail\": {\"Clinton Keith Veterinary Hospital\": 0.5, \"Inland Valley Medical Center\": 0.6, \"Clinton Keith & Hidden Springs\": 0.4},\n",
        "    \"Prielipp & Elizabeth\": {\"Inland Valley Medical Center\": 0.6, \"Jackson & Robards/Eden Springs\": 0.4},\n",
        "    \"Nutmeg & Lincoln\": {\"Nutmeg & Gingerbread\": 0.4, \"Glen Arbor Park\": 0.2},\n",
        "    \"Glen Arbor Park\": {\"Nutmeg & Lincoln\": 0.2, \"Jackson & Robards/Eden Springs\": 0.3, \"Nutmeg & Morning Glory\": 0.2, \"Jackson & Via Diamante/Buttercup\": 0.3},\n",
        "    \"Jackson & Robards/Eden Springs\": {\"Glen Arbor Park\": 0.3, \"Prielipp & Elizabeth\": 0.4},\n",
        "    \"Clinton Keith & Hidden Springs\": {\"Clinton Keith & Wildomar Trail\": 0.4, \"Renaissance Plaza\": 0.3},\n",
        "    \"Renaissance Plaza\": {\"Clinton Keith & Hidden Springs\": 0.3, \"Clinton Keith & Palomar\": 0.1},\n",
        "    \"Clinton Keith & Palomar\": {\"Renaissance Plaza\": 0.1, \"Sycamore Academy Charter School\": 0.4, \"Clinton Keith & Grand\": 0.5},\n",
        "    \"Sycamore Academy Charter School\": {\"Clinton Keith & Palomar\": 0.4, \"Washington & Grizzly Ridge\": 0.8},\n",
        "    \"Clinton Keith & Grand\": {\"Clinton Keith & Palomar\": 0.5, \"Clinton Keith & Club View\": 0.4},\n",
        "    \"Clinton Keith & Calle Del Oso Oro Bear Creek\": {\"Clinton Keith & Club View\": 0.3, \"Riverside County Fire Department Station 75\": 0.8, \"Club View & Via Moreno\": 0.5, \"Calle Del Oso Oro & Via Moreno\": 0.8},\n",
        "    \"Riverside County Fire Department Station 75\": {\"Clinton Keith & Calle Del Oso Oro Bear Creek\": 0.8},\n",
        "    \"Clinton Keith & Club View\": {\"Club View & Via Moreno\": 0.4, \"Clinton Keith & Calle Del Oso Oro Bear Creek\": 0.3, \"Clinton Keith & Grand\": 0.4},\n",
        "    \"Club View & Via Moreno\": {\"Clinton Keith & Calle Del Oso Oro Bear Creek\": 0.5, \"Clinton Keith & Club View\": 0.4, \"Cole Canyon Elementary School\": 0.3},\n",
        "    \"Cole Canyon Elementary School\": {\"Club View & Via Moreno\": 0.3, \"Rosewood Park\": 0.4, \"Calle Del Oso Oro & Via Moreno\": 0.4},\n",
        "    \"Calle Del Oso Oro & Via Moreno\": {\"Clinton Keith & Calle Del Oso Oro Bear Creek\": 0.8, \"Cole Canyon Elementary School\": 0.4, \"Calle Del Oso Oro & Oakleaf/Vineyard\": 0.3},\n",
        "    \"Rosewood Park\": {\"Cole Canyon Elementary School\": 0.4, \"Calle Del Oso Oro & Oakleaf/Vineyard\": 0.4},\n",
        "    \"Calle Del Oso Oro & Oakleaf/Vineyard\": {\"Rosewood Park\": 0.4, \"Calle Del Oso Oro & Via Moreno\": 0.3, \"Calle Del Oso Oro & Applewood\": 0.4},\n",
        "    \"Calle Del Oso Oro & Applewood\": {\"Calle Del Oso Oro & Oakleaf/Vineyard\": 0.4, \"Washington & Calle Del Oso Oro/Nutmeg\": 0.3},\n",
        "    \"Washington & Calle Del Oso Oro/Nutmeg\": {\"Calle Del Oso Oro & Applewood\": 0.3, \"Washington & Grizzly Ridge\": 0.4, \"Nutmeg & Jefferson\": 0.6, \"Plaza de Oro\": 0.1},\n",
        "    \"Washington & Grizzly Ridge\": {\"Washington & Calle Del Oso Oro/Nutmeg\": 0.4, \"Grizzly Ridge & Camellia\": 0.3, \"Sycamore Academy Charter School\": 0.8},\n",
        "    \"Nutmeg & Jefferson\": {\"Gateway Church of the Nazarene\": 0.6, \"Washington & Calle Del Oso Oro/Nutmeg\": 0.6, \"Nutmeg & Via Olivia\": 0.4, \"Jefferson & Magnolia/Nighthawk\": 0.4},\n",
        "    \"Gateway Church of the Nazarene\": {\"Nutmeg & Jefferson\": 0.6, \"Grizzly Ridge & Camellia\": 0.3},\n",
        "    \"Grizzly Ridge & Camellia\": {\"Gateway Church of the Nazarene\": 0.3, \"Washington & Grizzly Ridge\": 0.3},\n",
        "    \"Nutmeg & Via Olivia\": {\"Nutmeg & Jefferson\": 0.4, \"Nutmeg & Morning Glory\": 0.3},\n",
        "    \"Nutmeg & Morning Glory\": {\"Nutmeg & Via Olivia\": 0.3, \"Glen Arbor Park\": 0.2},\n",
        "    \"Palomar Park & La Alba Trail\": {\"Monte Vista Elementary School\": 0.4, \"Winchester & La Alba/Sparkman\": 0.4, \"French Valley Airport @ Winchester\": 0.8},\n",
        "    \"Monte Vista Elementary School\": {\"Palomar Park & La Alba Trail\": 0.4, \"Hunter & Via Mira Mosa\": 0.7},\n",
        "    \"Hunter & Via Mira Mosa\": {\"Monte Vista Elementary School\": 0.7, \"Winchester & Hunter\": 0.7},\n",
        "    \"Margarita & Torrey Pines\": {\"Murrieta Hot Springs & Margarita\": 0.5, \"Buchanan Elementary School\": 0.3},\n",
        "    \"California Oaks & Falconer/Manresa\": {\"Clinton Keith & California Oaks\": 0.4, \"Valley Vista Park\": 0.4, \"California Oaks & Hancock\": 0.6},\n",
        "    \"California Oaks & Hancock\": {\"California Oaks Sports Park\": 0.5, \"Hancock & Las Brisas N/Ridgewood\": 0.3, \"California Oaks & Falconer/Manresa\": 0.6},\n",
        "    \"California Oaks Sports Park\": {\"California Oaks & Hancock\": 0.5, \"Shivela Middle School\": 0.2, \"California Oaks & Jackson\": 0.3},\n",
        "    \"California Oaks & Jackson\": {\"California Oaks Sports Park\": 0.3, \"Jackson & Monroe\": 0.6, \"California Oaks Plaza\": 0.3, \"Monroe & Sunflower\": 0.3},\n",
        "    \"California Oaks Plaza\": {\"California Oaks & Jackson\": 0.3, \"Calvary Chapel Murrieta\": 0.6, \"Kalmia @ Kohl's\": 0.4, \"Madison Center\": 0.5, \"Monroe & Sunflower\": 0.2},\n",
        "    \"Calvary Chapel Murrieta\": {\"California Oaks Plaza\": 0.6, \"Chaco Canyon & Verdun\": 0.5, \"Monroe & Chatenay\": 0.2, \"Monroe & Sunflower\": 0.6},\n",
        "    \"Monroe & Chatenay\": {\"Jackson & Monroe\": 0.2, \"Calvary Chapel Murrieta\": 0.2, \"Chaco Canyon & Verdun\": 0.5},\n",
        "    \"Jackson & Monroe\": {\"Monroe & Chatenay\": 0.2, \"California Oaks & Jackson\": 0.6, \"E. Hale Curran Elementary School\": 0.2},\n",
        "    \"E. Hale Curran Elementary School\": {\"Jackson & Monroe\": 0.2, \"Chaco Canyon & Verdun\": 0.3, \"Jackson & Via Diamante/Buttercup\": 0.2},\n",
        "    \"Chaco Canyon & Verdun\": {\"E. Hale Curran Elementary School\": 0.3, \"Monroe & Chatenay\": 0.5, \"Calvary Chapel Murrieta\": 0.5},\n",
        "    \"Jackson & Via Diamante/Buttercup\": {\"Glen Arbor Park\": 0.3, \"E. Hale Curran Elementary School\": 0.2},\n",
        "    \"Kalmia @ Kohl's\": {\"Village Walk Plaza\": 0.3, \"Kalmia & Jefferson\": 0.1, \"California Oaks Plaza\": 0.4, \"Madison Center\": 0.3},\n",
        "    \"Village Walk Plaza\": {\"Kalmia @ Kohl's\": 0.3, \"Jefferson & Lemon\": 0.4, \"Kalmia & Jefferson\": 0.4},\n",
        "    \"Kalmia & Jefferson\": {\"Kalmia @ Kohl's\": 0.1, \"Village Walk Plaza\": 0.4, \"Jefferson & Lemon\": 0.5, \"Kalmia & Adams\": 0.2, \"Murrieta Town Square\": 0.1},\n",
        "    \"Murrieta Town Square\": {\"Jefferson & Juniper\": 0.1, \"Kalmia & Jefferson\": 0.1},\n",
        "    \"Jefferson & Lemon\": {\"Jefferson & Magnolia/Nighthawk\": 0.5, \"Lemon & Adams\": 0.3, \"Village Walk Plaza\": 0.4, \"Kalmia & Jefferson\": 0.5},\n",
        "    \"Jefferson & Magnolia/Nighthawk\": {\"Nutmeg & Jefferson\": 0.4, \"Nighthawk & Adams\": 0.2, \"Jefferson & Lemon\": 0.5},\n",
        "    \"Lemon & Adams\": {\"Jefferson & Lemon\": 0.3, \"Kalmia & Adams\": 0.5, \"Washington & Vineyard/Lemon\": 0.3, \"Nighthawk & Adams\": 0.5},\n",
        "    \"Nighthawk & Adams\": {\"Washington & Nighthawk\": 0.3, \"Jefferson & Magnolia/Nighthawk\": 0.2, \"Lemon & Adams\": 0.5},\n",
        "    \"Plaza de Oro\": {\"Washington & Nighthawk\": 0.3, \"Washington & Calle Del Oso Oro/Nutmeg\": 0.1},\n",
        "    \"Washington & Nighthawk\": {\"Plaza de Oro\": 0.3, \"Nighthawk & Adams\": 0.3, \"Washington & Vineyard/Lemon\": 0.5, \"Murrieta Valley High School\": 0.3},\n",
        "    \"Murrieta Valley High School\": {\"Washington & Nighthawk\": 0.3, \"Thompson Middle School & Murrieta Canyon Academy\": 0.3},\n",
        "    \"Thompson Middle School & Murrieta Canyon Academy\": {\"Murrieta Valley High School\": 0.3, \"Vineyard & Luna Brilla/Calle Estancia\": 0.5},\n",
        "    \"Vineyard & Luna Brilla/Calle Estancia\": {\"Thompson Middle School & Murrieta Canyon Academy\": 0.5, \"Washington & Vineyard/Lemon\": 0.4},\n",
        "    \"Washington & Vineyard/Lemon\": {\"Vineyard & Luna Brilla/Calle Estancia\": 0.4, \"Centerpoint Church\": 0.2, \"Lemon & Adams\": 0.3, \"Washington & Nighthawk\": 0.5},\n",
        "    \"Centerpoint Church\": {\"Washington & Vineyard/Lemon\": 0.2, \"Washington & Kalmia\": 0.3},\n",
        "    \"Washington & Kalmia\": {\"Centerpoint Church\": 0.3, \"Kalmia & 2nd\": 0.1, \"Washington & B\": 0.2, \"Kalmia & Adams\": 0.3},\n",
        "    \"Kalmia & Adams\": {\"Washington & Kalmia\": 0.3, \"Lemon & Adams\": 0.5, \"Murrieta Public Library & Murrieta Elementary School\": 0.2, \"Kalmia & Jefferson\": 0.2},\n",
        "    \"Murrieta Public Library & Murrieta Elementary School\": {\"Kalmia & Adams\": 0.2, \"Murrieta Senior Center\": 0.1, \"Washington & B\": 0.3},\n",
        "    \"Washington & B\": {\"Murrieta Public Library & Murrieta Elementary School\": 0.3, \"Washington & Juniper\": 0.1, \"Washington & Kalmia\": 0.2, \"B & 2nd\": 0.1},\n",
        "    \"B & 2nd\": {\"Washington & B\": 0.1, \"Juniper & 2nd\": 0.1, \"Kalmia & 2nd\": 0.2},\n",
        "    \"Kalmia & 2nd\": {\"Washington & Kalmia\": 0.1, \"Kalmia & 4th\": 0.2, \"B & 2nd\": 0.2},\n",
        "    \"Murrieta Senior Center\": {\"Murrieta Public Library & Murrieta Elementary School\": 0.1, \"Jefferson & Juniper\": 0.2, \"Ivy & Adams\": 0.3},\n",
        "    \"Washington & Juniper\": {\"Washington & B\": 0.1, \"Juniper & 2nd\": 0.1, \"Washington & Ivy\": 0.3},\n",
        "    \"Juniper & 2nd\": {\"Washington & Juniper\": 0.1, \"B & 2nd\": 0.1, \"Washington & Ivy\": 0.4},\n",
        "    \"Kalmia & 4th\": {\"Kalmia & 2nd\": 0.2, \"Kalmia & Hayes\": 0.2},\n",
        "    \"Kalmia & Hayes\": {\"Kalmia & 4th\": 0.2, \"Hayes & Juniper\": 0.3},\n",
        "    \"Hayes & Juniper\": {\"Kalmia & Hayes\": 0.3, \"Hayes & Ivy\": 0.3},\n",
        "    \"Hayes & Ivy\": {\"Hayes & Juniper\": 0.3, \"Washington & Ivy\": 0.5, \"Hayes & Hawthorn\": 0.5},\n",
        "    \"Hayes & Hawthorn\": {\"Hayes & Ivy\": 0.5, \"Hayes & De Luz/Guava\": 0.5},\n",
        "    \"Hayes & De Luz/Guava\": {\"Hayes & Hawthorn\": 0.5, \"Adams & Guava\": 0.8},\n",
        "    \"Washington & Ivy\": {\"Juniper & 2nd\": 0.4, \"Washington & Hawthorn\": 0.5, \"Hayes & Ivy\": 0.5, \"Washington & Juniper\": 0.3},\n",
        "    \"Ivy & Adams\": {\"Washington & Ivy\": 0.3, \"Washington & Hawthorn\": 0.8, \"Jefferson & Ivy/Los Alamos\": 0.2, \"Murrieta Senior Center\": 0.3},\n",
        "    \"Washington & Hawthorn\": {\"Washington & Ivy\": 0.5, \"Ivy & Adams\": 0.8, \"Adams & Guava\": 0.7},\n",
        "    \"Adams & Guava\": {\"Washington & Hawthorn\": 0.7, \"Jefferson & Guava\": 0.2, \"Hayes & De Luz/Guava\": 0.8},\n",
        "    \"Jefferson & Juniper\": {\"Murrieta Senior Center\": 0.2, \"Jefferson & Ivy/Los Alamos\": 0.3, \"Murrieta Town Square\": 0.1, \"Madison & Juniper\": 0.2},\n",
        "    \"Jefferson & Ivy/Los Alamos\": {\"Jefferson & Juniper\": 0.3, \"Los Alamos & Madison\": 0.3, \"Ivy & Adams\": 0.2, \"Jefferson & Murrieta Hot Springs\": 0.5},\n",
        "    \"Jefferson & Murrieta Hot Springs\": {\"Jefferson & Ivy/Los Alamos\": 0.5, \"Jefferson & Guava\": 0.5, \"Murrieta Springs Plaza\": 0.4},\n",
        "    \"Jefferson & Guava\": {\"Jefferson & Murrieta Hot Springs\": 0.5, \"Adams & Guava\": 0.2, \"Jefferson & Fig\": 0.5},\n",
        "    \"Jefferson & Fig\": {\"Jefferson & Guava\": 0.5, \"Jefferson & Elm\": 0.5},\n",
        "    \"Jefferson & Elm\": {\"Jefferson & Fig\": 0.5, \"Jefferson & Pear/Eastman\": 0.4},\n",
        "    \"Jefferson & Pear/Eastman\": {\"Jefferson & Elm\": 0.4, \"Jefferson & Cherry\": 0.4},\n",
        "    \"Jefferson & Cherry\": {\"Jefferson & Pear/Eastman\": 0.4},\n",
        "    \"Sierra Vista Shopping Center\": {\"Hancock & Calle Yorba Vista\": 0.2, \"Hancock & Las Brisas S/Coliseum\": 0.2, \"Los Alamos & Parkcrest\": 0.3, \"Murrieta Gateway\": 0.4},\n",
        "    \"Hancock & Las Brisas N/Ridgewood\": {\"Hancock & Leafwood/Milkwood\": 0.5, \"California Oaks & Hancock\": 0.3},\n",
        "    \"Hancock & Leafwood/Milkwood\": {\"Hancock & Las Brisas S/Coliseum\": 0.3, \"Hancock & Las Brisas N/Ridgewood\": 0.5},\n",
        "    \"Hancock & Las Brisas S/Coliseum\": {\"Hancock & Calle Yorba Vista\": 0.2, \"Sierra Vista Shopping Center\": 0.2, \"Hancock & Leafwood/Milkwood\": 0.3, \"Los Alamos & Parkcrest\": 0.3},\n",
        "    \"Los Alamos & Parkcrest\": {\"Los Alamos & Lincoln/Vista Murrieta\": 0.3, \"Hancock & Las Brisas S/Coliseum\": 0.3, \"Sierra Vista Shopping Center\": 0.3, \"Hancock & Calle Yorba Vista\": 0.3, \"Hancock & Parkcrest\": 0.3},\n",
        "    \"Los Alamos & Lincoln/Vista Murrieta\": {\"Los Alamos & Parkcrest\": 0.3, \"Lincoln & Wichita\": 0.5, \"Los Alamos & Monroe\": 0.4},\n",
        "    \"Los Alamos & Monroe\": {\"Los Alamos & Lincoln/Vista Murrieta\": 0.4, \"Murrieta Mesa High School\": 0.2, \"Los Alamos & Madison\": 0.5},\n",
        "    \"Los Alamos & Madison\": {\"Madison @ Mulligans\": 0.1, \"Madison Square & Murrieta Spectrum Shopping Center\": 0.1, \"Jefferson & Ivy/Los Alamos\": 0.3, \"Los Alamos & Monroe\": 0.5},\n",
        "    \"Madison Center\": {\"Madison & Juniper\": 0.1, \"Kalmia @ Kohl's\": 0.3, \"California Oaks Plaza\": 0.5},\n",
        "    \"Madison & Juniper\": {\"Madison Center\": 0.1, \"Madison @ Mulligans\": 0.2, \"Jefferson & Juniper\": 0.2},\n",
        "    \"Madison @ Mulligans\": {\"Madison & Juniper\": 0.2, \"Los Alamos & Madison\": 0.1},\n",
        "    \"Monroe & Sunflower\": {\"Monroe & Symphony Park\": 0.2, \"California Oaks Plaza\": 0.2, \"California Oaks & Jackson\": 0.3, \"Calvary Chapel Murrieta\": 0.6},\n",
        "    \"Monroe & Symphony Park\": {\"Monroe & Sunflower\": 0.2, \"Murrieta Mesa High School\": 0.3},\n",
        "    \"Murrieta Mesa High School\": {\"Monroe & Symphony Park\": 0.3, \"Los Alamos & Monroe\": 0.2},\n",
        "    \"Madison Square & Murrieta Spectrum Shopping Center\": {\"Los Alamos & Madison\": 0.1, \"Murrieta Springs Plaza\": 0.2},\n",
        "    \"Murrieta Springs Plaza\": {\"Madison Square & Murrieta Spectrum Shopping Center\": 0.2, \"Jefferson & Murrieta Hot Springs\": 0.4, \"Rancho Springs Medical Center\": 1.0, \"Murrieta Hot Springs & Alta Murrieta Sam's Club\": 1.4},\n",
        "    \"Hancock & Calle Yorba Vista\": {\"Sierra Vista Shopping Center\": 0.2, \"Hancock & Las Brisas S/Coliseum\": 0.2, \"Los Alamos & Parkcrest\": 0.3, \"Hancock & Parkcrest\": 0.3},\n",
        "    \"Hancock & Parkcrest\": {\"Hancock & Calle Yorba Vista\": 0.3, \"Los Alamos & Parkcrest\": 0.3, \"Rady Children's Specialists\": 0.1},\n",
        "    \"Rady Children's Specialists\": {\"Hancock & Parkcrest\": 0.1, \"Rancho Springs Medical Center\": 0.5},\n",
        "    \"Rancho Springs Medical Center\": {\"Murrieta Springs Plaza\": 1.0, \"Rady Children's Specialists\": 0.5, \"Murrieta Hot Springs & Alta Murrieta Sam's Club\": 0.5},\n",
        "    \"Buchanan Elementary School\": {\"Torrey Pines & Sugarberry\": 0.4, \"Margarita & Torrey Pines\": 0.3},\n",
        "    \"Torrey Pines & Sugarberry\": {\"Buchanan Elementary School\": 0.4},\n",
        "    \"Lincoln & Wichita\": {\"Los Alamos & Lincoln/Vista Murrieta\": 0.5, \"Shivela Middle School\": 0.3},\n",
        "    \"Shivela Middle School\": {\"Lincoln & Wichita\": 0.3, \"California Oaks Sports Park\": 0.2}\n",
        "    }"
      ]
    },
    {
      "cell_type": "markdown",
      "metadata": {
        "id": "G_0Yk5N2VW-D"
      },
      "source": [
        "## Dijkstra's Algorithm"
      ]
    },
    {
      "cell_type": "code",
      "execution_count": null,
      "metadata": {
        "id": "9dusEZJSVan8"
      },
      "outputs": [],
      "source": [
        "# This interpretation of Dijkstra's Algorithm is originally from: https://algodaily.com/lessons/an-illustrated-guide-to-dijkstras-algorithm/python \n",
        "\n",
        "# Source and destination to determine the route\n",
        "source = \"Whitewood Park\"\n",
        "destination = \"Antelope Hills Elementary School\"\n",
        "\n",
        "def dijkstra():\n",
        "  # Declaring variables and lists\n",
        "  unvisited = graph\n",
        "  shortest_distances = {}\n",
        "  route = []\n",
        "  path_nodes = {}\n",
        "\n",
        "  # For loop to iterate through the unvisited nodes while searching for best path\n",
        "  for nodes in unvisited:\n",
        "      shortest_distances[nodes] = math.inf\n",
        "  shortest_distances[source] = 0\n",
        "\n",
        "  # While the node is unvisited, each should be checked and the node with the shortest distance should be chosen\n",
        "  while unvisited:\n",
        "      min_node = None\n",
        "      for current_node in unvisited:\n",
        "          if min_node is None:\n",
        "              min_node = current_node\n",
        "          elif shortest_distances[min_node] \\\n",
        "              > shortest_distances[current_node]:\n",
        "              min_node = current_node\n",
        "      for (node, value) in unvisited[min_node].items():\n",
        "          if value + shortest_distances[min_node] \\\n",
        "              < shortest_distances[node]:\n",
        "              shortest_distances[node] = value \\\n",
        "                  + shortest_distances[min_node]\n",
        "              path_nodes[node] = min_node\n",
        "      unvisited.pop(min_node)\n",
        "  node = destination\n",
        "\n",
        "  # Continue searching unless destination is reached or if the path is unreachable.\n",
        "  while node != source:\n",
        "      try:\n",
        "          route.insert(0, node)\n",
        "          node = path_nodes[node]\n",
        "      except Exception:\n",
        "          print('Path not reachable')\n",
        "          break\n",
        "  route.insert(0, source)\n",
        "\n",
        "  # Display the path with the shortest distance calculation\n",
        "  if shortest_distances[destination] != math.inf:\n",
        "      print('The shortest distance is ' + str(shortest_distances[destination]) + ' miles.')\n",
        "      print('The path is :' + str(route))\n",
        "\n",
        "dijkstra()"
      ]
    },
    {
      "cell_type": "markdown",
      "metadata": {
        "id": "DCcFh2OMq-hK"
      },
      "source": [
        "# Tests"
      ]
    },
    {
      "cell_type": "markdown",
      "metadata": {
        "id": "VVZHrCyAvm6c"
      },
      "source": [
        "## **Testing**\n",
        "\n",
        "To undertake the testing, I used Google's random number generator to randomly generate a source and destination node using the indices on the dataset.\n",
        "\n",
        "---\n",
        "\n",
        "## **Trial 1**\n",
        "The shortest distance is 9.3 miles.\n",
        "\n",
        "The path is :['Heritage Marketplace', 'Antelope & Keller', 'Loma Linda University Medical Center', 'Alderwood Park', 'Whitewood & Lee/Linnel', 'Meadowlark Pointe', 'Clinton Keith & Whitewood', 'Whitewood & Hunter', 'Los Alamos Hills Sports Park', 'Rail Ranch Elementary School', 'Whitewood & Willowbend', 'Whitewood & Blackthorne', 'Whitewood Park', 'Alta Murrieta Elementary School', 'Whitewood & Via Temprano/Highbury', 'Firefighters Park', 'Murrieta Hot Springs & Margarita', 'Margarita & Torrey Pines', 'Buchanan Elementary School', 'Torrey Pines & Sugarberry']\n",
        "\n",
        "Google maps driving distance: 9.3 miles.\n",
        "\n",
        "---\n",
        "\n",
        "## **Trial 2**\n",
        "The shortest distance is 3.1999999999999997 miles.\n",
        "\n",
        "The path is :['Rockcrest & Daphne', 'Alta Murrieta Sports Park', \"Murrieta Hot Springs & Alta Murrieta Sam's Club\", 'Murrieta Springs Plaza', 'Jefferson & Murrieta Hot Springs', 'Jefferson & Guava']\n",
        "\n",
        "Google maps driving distance: 2.7 miles.\n",
        "\n",
        "---\n",
        "\n",
        "## **Trial 3**\n",
        "The shortest distance is 2.6 miles.\n",
        "\n",
        "The path is :['Club View & Via Moreno', 'Cole Canyon Elementary School', 'Calle Del Oso Oro & Via Moreno', 'Calle Del Oso Oro & Oakleaf/Vineyard', 'Calle Del Oso Oro & Applewood', 'Washington & Calle Del Oso Oro/Nutmeg', 'Plaza de Oro', 'Washington & Nighthawk', 'Nighthawk & Adams', 'Jefferson & Magnolia/Nighthawk']\n",
        "\n",
        "Google maps driving distance: 2.6 miles.\n",
        "\n",
        "---\n",
        "\n",
        "## **Trial 4**\n",
        "The shortest distance is 2.0 miles.\n",
        "\n",
        "The path is :['Lincoln & Wichita', 'Shivela Middle School', 'California Oaks Sports Park', 'California Oaks & Hancock', 'California Oaks & Falconer/Manresa', 'Valley Vista Park']\n",
        "\n",
        "Google maps driving distance: 1.5 miles.\n",
        "\n",
        "---\n",
        "\n",
        "## **Trial 5**\n",
        "The shortest distance is 5.8 miles.\n",
        "\n",
        "The path is :['Clinton Keith & Trois Valley', 'Clinton Keith & Menifee', 'Los Alamos & Shannon N', 'Los Alamos & Mason', 'Rail Ranch Elementary School', 'Murrieta Gateway', 'Sierra Vista Shopping Center', 'Los Alamos & Parkcrest', 'Los Alamos & Lincoln/Vista Murrieta', 'Los Alamos & Monroe', 'Los Alamos & Madison', 'Jefferson & Ivy/Los Alamos', 'Ivy & Adams']\n",
        "\n",
        "Google maps driving distance: 6.1 miles.\n",
        "\n",
        "---\n",
        "\n",
        "## **Trial 6**\n",
        "The shortest distance is 6.199999999999999 miles.\n",
        "\n",
        "The path is :['Monroe & Sunflower', 'California Oaks Plaza', 'Madison Center', 'Madison & Juniper', 'Madison @ Mulligans', 'Los Alamos & Madison', 'Madison Square & Murrieta Spectrum Shopping Center', 'Murrieta Springs Plaza', \"Murrieta Hot Springs & Alta Murrieta Sam's Club\", 'Firefighters Park', 'Murrieta Hot Springs & Margarita', 'Murrieta Hot Springs & Calle Del Lago', 'Murrieta Hot Springs & Winchester Hwy 79', 'Winchester & Robert Trent Jones/Technology', 'Winchester & Hunter']\n",
        "\n",
        "Google maps driving distance: 6.2 miles.\n",
        "\n",
        "---\n",
        "\n",
        "## **Trial 7**\n",
        "The shortest distance is 2.1 miles.\n",
        "\n",
        "The path is :['Clinton Keith & Menifee', 'Clinton Keith & Whitewood', 'Clinton Keith @ Costco & Vista Murrieta High School', 'Orchard Center', 'Antelope Hills Elementary School']\n",
        "\n",
        "Google maps driving distance: 1.8 miles.\n",
        "\n",
        "---\n",
        "\n",
        "## **Trial 8**\n",
        "The shortest distance is 2.8000000000000003 miles.\n",
        "\n",
        "The path is :['Murrieta Springs Plaza', 'Madison Square & Murrieta Spectrum Shopping Center', 'Los Alamos & Madison', 'Madison @ Mulligans', 'Madison & Juniper', 'Madison Center', 'California Oaks Plaza', 'California Oaks & Jackson', 'Jackson & Monroe', 'E. Hale Curran Elementary School', 'Jackson & Via Diamante/Buttercup', 'Glen Arbor Park']\n",
        "\n",
        "Google maps driving distance: 2.7 miles.\n",
        "\n",
        "---\n",
        "\n",
        "## **Trial 9**\n",
        "The shortest distance is 7.1000000000000005 miles.\n",
        "\n",
        "The path is :['Calle Del Oso Oro & Via Moreno', 'Calle Del Oso Oro & Oakleaf/Vineyard', 'Calle Del Oso Oro & Applewood', 'Washington & Calle Del Oso Oro/Nutmeg', 'Plaza de Oro', 'Washington & Nighthawk', 'Washington & Vineyard/Lemon', 'Centerpoint Church', 'Washington & Kalmia', 'Kalmia & Adams', 'Kalmia & Jefferson', 'Murrieta Town Square', 'Jefferson & Juniper', 'Madison & Juniper', 'Madison @ Mulligans', 'Los Alamos & Madison', 'Madison Square & Murrieta Spectrum Shopping Center', 'Murrieta Springs Plaza', \"Murrieta Hot Springs & Alta Murrieta Sam's Club\", 'Firefighters Park', 'Murrieta Hot Springs & Margarita', 'Murrieta Hot Springs & Calle Del Lago']\n",
        "\n",
        "Google maps driving distance: 7.1 miles.\n",
        "\n",
        "---\n",
        "\n",
        "## **Trial 10**\n",
        "The shortest distance is 4.5 miles.\n",
        "\n",
        "The path is :['Whitewood Park', 'Whitewood & Blackthorne', 'Whitewood & Willowbend', 'Rail Ranch Elementary School', 'Los Alamos Hills Sports Park', 'Whitewood & Hunter', 'Clinton Keith & Whitewood', 'Clinton Keith @ Costco & Vista Murrieta High School', 'Orchard Center', 'Antelope Hills Elementary School']\n",
        "\n",
        "Google maps driving distance: 3.5 miles."
      ]
    },
    {
      "cell_type": "code",
      "execution_count": null,
      "metadata": {
        "id": "FZ4oaLjZwn45"
      },
      "outputs": [],
      "source": [
        "#%reset -f\n",
        "\n",
        "#dijsktra()"
      ]
    },
    {
      "cell_type": "markdown",
      "metadata": {
        "id": "PQ02l0q7J4vi"
      },
      "source": [
        "# Map\n",
        "\n",
        "---\n",
        "\n",
        "Folium & Geoapify"
      ]
    },
    {
      "cell_type": "markdown",
      "metadata": {
        "id": "hsKFQ6INVqbB"
      },
      "source": [
        "## Import Libraries"
      ]
    },
    {
      "cell_type": "code",
      "execution_count": null,
      "metadata": {
        "id": "MVKsRuIZJ8k1"
      },
      "outputs": [],
      "source": [
        "### GEOAPIFY\n",
        "from geopy.geocoders import Nominatim\n",
        "from shapely.geometry import Point, LineString\n",
        "import folium \n",
        "import matplotlib.pyplot as plt\n",
        "import random\n",
        "import requests\n",
        "import itertools\n",
        "from requests.structures import CaseInsensitiveDict\n",
        "\n",
        "# API token\n",
        "#url = \"https://api.geoapify.com/v1/routing?waypoints=33.527038,-117.172444|33.545156,-117.193235|33.535447,-117.206108|33.5541592,-117.220103|33.59526556696281,-117.19733546415154&mode=drive&avoid=highways&apiKey=f3d3263adaa04715addde96fd3f64e7b\"\n",
        "url = \"https://api.geoapify.com/v1/routing?waypoints=50.96209827745463%2C4.414458883409225%7C50.429137079078345%2C5.00088081232559&mode=drive&apiKey=f3d3263adaa04715addde96fd3f64e7b\"\n",
        "#token = \"https://api.geoapify.com/v1/apiKey=f3d3263adaa04715addde96fd3f64e7b\"\n",
        "\n",
        "headers = CaseInsensitiveDict()\n",
        "headers[\"Accept\"] = \"application/json\"\n",
        "\n",
        "response = requests.get(url, headers=headers)\n",
        "\n",
        "print(response.status_code)"
      ]
    },
    {
      "cell_type": "markdown",
      "metadata": {
        "id": "xHanEIIAV1Mg"
      },
      "source": [
        "## Folium"
      ]
    },
    {
      "cell_type": "code",
      "execution_count": null,
      "metadata": {
        "id": "Eie_CKeHV19e"
      },
      "outputs": [],
      "source": [
        "# Initialize map 'm' at the location of Murrieta, California, zoomed to display all city limits\n",
        "m = folium.Map(location=[33.5539, -117.2139], zoom_start=13)\n",
        "\n",
        "# Display map\n",
        "#m"
      ]
    },
    {
      "cell_type": "code",
      "execution_count": null,
      "metadata": {
        "id": "qaVRcxvNUHN3"
      },
      "outputs": [],
      "source": [
        "api_key = \"f3d3263adaa04715addde96fd3f64e7b\"\n",
        "\n",
        "routes = {\n",
        "    \"route_1\" : [ \"Riverside County Fire Department Station 75\", \"Winchester & Max Gilliss/Thompson\" ],\n",
        "    \"route_2\" : [ \"Heritage Marketplace\", \"Jefferson & Cherry\" ],\n",
        "    \"route_3\" : [ \"Riverside County Fire Department Station 75\", \"Jefferson & Cherry\" ],\n",
        "    \"route_4\" : [ \"Inland Valley Medical Center\", \"Glen Arbor Park\", \"California Oaks Sports Park\", \"Los Alamos & Lincoln/Vista Murrieta\" ],\n",
        "    \"route_5\" : [ \"Jefferson & Cherry\", \"Jefferson & Guava\", \"Hayes & De Luz/Guava\", \"Kalmia & Hayes\", \"Clinton Keith & California Oaks\" ],\n",
        "    \"route_6\" : [ \"Murrieta Town Square\", \"Clinton Keith & California Oaks\", \"Monte Vista Elementary School\", \"Hunter & Via Mira Mosa\", \"Margarita & Torrey Pines\" ],\n",
        "    \"route_7\" : [ \"Murrieta Palms @ Ynez\", \"Firefighters Park\", \"Alta Murrieta Elementary School\", \"Alta Murrieta Sports Park\", \"Murrieta Hot Springs & Alta Murrieta (Sam's Club)\", \"Firefighters Park\", \"McElwain @ Super Target\" ],\n",
        "    \"route_8\" : [ \"Kalmia & Hayes\", \"Clinton Keith & California Oaks\", \"Clinton Keith & Menifee\", \"Los Alamos & Shannon N\", \"Hayes & Ivy\", \"Kalmia & Hayes\" ],\n",
        "    \"route_9\" : [ \"Whitewood & Lee/Linnel\", \"Whitewood & Mapleton\", \"Clinton Keith @ Costco & Vista Murrieta High School\", \"Washington & Calle Del Oso Oro/Nutmeg\", \"Washington & Hawthorn\" ],\n",
        "    \"route_10\" : [ \"Kalmia @ Kohl's\", \"Murrieta Hot Springs & Winchester (Hwy 79)\", \"Winchester & Hunter\", \"Winchester & La Alba/Sparkman\", \"French Valley Airport @ Winchester\", \"French Valley Village Shopping Center\" ],\n",
        "    \"route_11\" : [ \"Clinton Keith & Palomar\", \"Washington & Calle Del Oso Oro/Nutmeg\", \"Glen Arbor Park\", \"California Oaks & Hancock\", \"Rancho Springs Medical Center\", \"Margarita & Torrey Pines\" ]\n",
        "}\n",
        "\n",
        "def get_bus_stop_info(name):\n",
        "  index = data[data[\"Stop Name\"] == name].index\n",
        "  lat = float(data.iloc[index][\"Latitude\"])\n",
        "  lon = float(data.iloc[index][\"Longitude\"])\n",
        "  cla = str(data.iloc[index][\"Classification\"])\n",
        "\n",
        "  return (lat, lon, cla)\n",
        "\n",
        "# Function to create the map\n",
        "def create_map(routes, colors, show_stops=True):\n",
        "  \n",
        "  # initialization\n",
        "  map = folium.Map(location=[33.574710, -117.186731], zoom_start=13)\n",
        "  headers = CaseInsensitiveDict()\n",
        "  headers[\"Accept\"] = \"application/json\"\n",
        "\n",
        "  # bus route to lat, lon\n",
        " \n",
        "  for route_name, bus_stops in routes.items():\n",
        "    geoapify_points = []\n",
        "    url = \"\"\n",
        "\n",
        "    for bus_stop in bus_stops:\n",
        "      (lat, lon, cla) = get_bus_stop_info(bus_stop)\n",
        "      url += str(lat)\n",
        "      url += \",\"\n",
        "      url += str(lon)\n",
        "      url += \"|\" # todo: remove for last point\n",
        "    geoapify_points.append(url[:-1])\n",
        "    geoapify_points = ''.join(geoapify_points)\n",
        "\n",
        "    # Get intermediate lat, lon for bus stop\n",
        "    # Start of program\n",
        "    # API token containing source and destination coordinates for route plotting\n",
        "    complete_url = f\"https://api.geoapify.com/v1/routing?waypoints={geoapify_points}&mode=drive&avoid=highways&apiKey={api_key}\"\n",
        "\n",
        "    response = requests.get(complete_url, headers=headers)\n",
        "    inbetween_points = response.json()['features'][0]['geometry']['coordinates']\n",
        "\n",
        "    points = []\n",
        "    for point in inbetween_points:\n",
        "      for p in point:\n",
        "        points.append((p[1], p[0]))\n",
        "\n",
        "    # add the lines\n",
        "    folium.PolyLine(points, weight=5, opacity=1, color=next(colors)).add_to(map)\n",
        "\n",
        "    # Draw map markers\n",
        "    if show_stops:\n",
        "      # create bus stop markers\n",
        "      for bus_stop in bus_stops:\n",
        "        (lat, lon, cla) = get_bus_stop_info(bus_stop)\n",
        "        folium.Marker(location=[lat,lon], popup=bus_stop).add_to(map)\n",
        "    else:\n",
        "      # add marker for bus route in the middle\n",
        "      middle_stop = math.floor(len(points) / 2)\n",
        "      middle_stop_pos = points[middle_stop]\n",
        "      folium.Marker(location=[middle_stop_pos[0], middle_stop_pos[1]], popup=route_name).add_to(map)\n",
        "\n",
        "    # create optimal zoom\n",
        "    # df = pd.DataFrame(inbetween_points[0]).rename(columns={ 0 : 'Lon', 1 : 'Lat'}) [['Lat', 'Lon']]\n",
        "    # sw = df[['Lat', 'Lon']].min().values.tolist()\n",
        "    # ne = df[['Lat', 'Lon']].max().values.tolist()\n",
        "\n",
        "    # map.fit_bounds([sw, ne])\n",
        "\n",
        "  return map\n",
        "\n",
        "# color cycle for different route colors\n",
        "colors = itertools.cycle([\"maroon\", \"lightcoral\", \"tomato\", \"peru\", \"gold\", \"yellowgreen\", \"palegreen\", \"darkgreen\", \"mediumaquamarine\", \"darkslategrey\", \"darkturquoise\", \"navy\", \"rebeccapurple\"])\n",
        "map = create_map(routes, colors, show_stops=False)\n",
        "map"
      ]
    },
    {
      "cell_type": "code",
      "execution_count": null,
      "metadata": {
        "id": "7QTIIokfndjY"
      },
      "outputs": [],
      "source": [
        "# Zip the values of the name of the bus stop and its corresponding coordinates in order to display all of the bus stops at once\n",
        "for name, lat, lon in zip(name, lat, lon):\n",
        "  folium.Marker(location=[lat,lon], popup=name).add_to(m)\n",
        "\n",
        "m"
      ]
    },
    {
      "cell_type": "markdown",
      "metadata": {
        "id": "fzm4k8C2opXD"
      },
      "source": [
        "## RapidAPI"
      ]
    },
    {
      "cell_type": "code",
      "execution_count": null,
      "metadata": {
        "id": "7WOyV6rgsMNS"
      },
      "outputs": [],
      "source": [
        "### RAPIDAPI\n",
        "\n",
        "import requests\n",
        "def get_directions_response(lat1, long1, lat2, long2, mode='drive'):\n",
        "   url = \"https://route-and-directions.p.rapidapi.com/v1/routing\"\n",
        "   key = \"d359a43977msh70a50c82ca2c350p1c79b7jsnd3e4f940fa60\"\n",
        "   host = \"route-and-directions.p.rapidapi.com\"\n",
        "   headers = {\"X-RapidAPI-Key\": key, \"X-RapidAPI-Host\": host}\n",
        "   querystring = {\"waypoints\":f\"{str(lat1)},{str(long1)}|{str(lat2)},{str(long2)}\",\"mode\":mode}\n",
        "   response = requests.request(\"GET\", url, headers=headers, params=querystring)\n",
        "   return response\n",
        "response = get_directions_response(52.4013, 4.5425, 52.402, 4.5426)"
      ]
    },
    {
      "cell_type": "code",
      "execution_count": null,
      "metadata": {
        "id": "UoQZCDXZqC0A"
      },
      "outputs": [],
      "source": [
        "import requests\n",
        "\n",
        "url = \"https://multimodal-trip-planner.p.rapidapi.com/v1/routing\"\n",
        "\n",
        "querystring = {\"waypoints\":\"48.34364,10.87474|48.37073,10.90925\",\"mode\":\"drive\"}\n",
        "\n",
        "headers = {\n",
        "\t\"X-RapidAPI-Key\": \"d359a43977msh70a50c82ca2c350p1c79b7jsnd3e4f940fa60\",\n",
        "\t\"X-RapidAPI-Host\": \"multimodal-trip-planner.p.rapidapi.com\"\n",
        "}\n",
        "\n",
        "response = requests.request(\"GET\", url, headers=headers, params=querystring)\n",
        "\n",
        "print(response.text)"
      ]
    },
    {
      "cell_type": "code",
      "execution_count": null,
      "metadata": {
        "id": "QOmXpaWLW-5H"
      },
      "outputs": [],
      "source": []
    },
    {
      "cell_type": "code",
      "execution_count": null,
      "metadata": {
        "id": "abOctQd0XpSV"
      },
      "outputs": [],
      "source": [
        "def create_map(response):\n",
        "   # use the response\n",
        "   mls = response.json()['features'][0]['geometry']['coordinates']\n",
        "   #print(mls)\n",
        "   points = [(i[1], i[0]) for i in mls[0]]\n",
        "   m = folium.Map()\n",
        "   # add marker for the start and ending points\n",
        "   for point in [points[0], points[-1]]:\n",
        "      folium.Marker(point).add_to(m)\n",
        "   # add the lines\n",
        "   folium.PolyLine(points, weight=5, opacity=1).add_to(m)\n",
        "   # create optimal zoom\n",
        "   df = pd.DataFrame(mls[0]).rename(columns={0:'Lon', 1:'Lat'})[['Lat', 'Lon']]\n",
        "   sw = df[['Lat', 'Lon']].min().values.tolist()\n",
        "   ne = df[['Lat', 'Lon']].max().values.tolist()\n",
        "   m.fit_bounds([sw, ne])\n",
        "   return m\n",
        "m = create_map(response)\n",
        "\n",
        "m"
      ]
    }
  ],
  "metadata": {
    "colab": {
      "authorship_tag": "ABX9TyOf05v3ijznk7YOXHFycaka",
      "collapsed_sections": [
        "9JZZktXKVFa7",
        "DCcFh2OMq-hK",
        "fzm4k8C2opXD"
      ],
      "include_colab_link": true,
      "mount_file_id": "1NhUkK2Ri4wY2uus2gGh1InTzoq9amqgx",
      "provenance": []
    },
    "kernelspec": {
      "display_name": "Python 3",
      "name": "python3"
    },
    "language_info": {
      "name": "python"
    }
  },
  "nbformat": 4,
  "nbformat_minor": 0
}
